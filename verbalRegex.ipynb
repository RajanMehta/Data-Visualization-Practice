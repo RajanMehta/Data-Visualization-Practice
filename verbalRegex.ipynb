{
  "nbformat": 4,
  "nbformat_minor": 0,
  "metadata": {
    "colab": {
      "name": "verbalRegex.ipynb",
      "provenance": [],
      "collapsed_sections": [],
      "include_colab_link": true
    },
    "kernelspec": {
      "name": "python3",
      "display_name": "Python 3"
    }
  },
  "cells": [
    {
      "cell_type": "markdown",
      "metadata": {
        "id": "view-in-github",
        "colab_type": "text"
      },
      "source": [
        "<a href=\"https://colab.research.google.com/github/RajanMehta/mini-projects/blob/master/verbalRegex.ipynb\" target=\"_parent\"><img src=\"https://colab.research.google.com/assets/colab-badge.svg\" alt=\"Open In Colab\"/></a>"
      ]
    },
    {
      "cell_type": "code",
      "metadata": {
        "id": "EvkBTVdRdX7Q",
        "colab_type": "code",
        "colab": {}
      },
      "source": [
        "!pip install VerbalExpressions"
      ],
      "execution_count": 0,
      "outputs": []
    },
    {
      "cell_type": "code",
      "metadata": {
        "id": "GorcVRZId2X8",
        "colab_type": "code",
        "colab": {}
      },
      "source": [
        "from verbalexpressions import VerEx\n",
        "verbal_expression = VerEx()"
      ],
      "execution_count": 0,
      "outputs": []
    },
    {
      "cell_type": "markdown",
      "metadata": {
        "id": "d8jaycjxx0Ho",
        "colab_type": "text"
      },
      "source": [
        "### URLs"
      ]
    },
    {
      "cell_type": "code",
      "metadata": {
        "id": "34K5fXmCdntl",
        "colab_type": "code",
        "outputId": "c58c037d-91cf-4535-deec-d5718ccc0c82",
        "colab": {
          "base_uri": "https://localhost:8080/",
          "height": 51
        }
      },
      "source": [
        "# Identify correctly formed URLs\n",
        "verbal_expression = VerEx()\n",
        "tester = (verbal_expression.\n",
        "            start_of_line().\n",
        "            find('http').\n",
        "            maybe('s').\n",
        "            find('://').\n",
        "            maybe('www.').\n",
        "            anything_but(' |in').\n",
        "            end_of_line()\n",
        ")\n",
        "\n",
        "# Test URLs\n",
        "test_urls = [\"https://www.google.com\", \n",
        "             \"https://www.google. com\", \n",
        "             \"https://www.google.in\"]\n",
        "\n",
        "# Print the generated regex\n",
        "print(tester.source())\n",
        "\n",
        "# Test if the URLs are valid\n",
        "for url in test_urls:\n",
        "  if tester.match(url) is not None:\n",
        "    print('valid url:', url)"
      ],
      "execution_count": 0,
      "outputs": [
        {
          "output_type": "stream",
          "text": [
            "^(http)(s)?(\\:\\/\\/)(www\\.)?([^\\ \\|in]*)$\n",
            "valid url: https://www.google.com\n"
          ],
          "name": "stdout"
        }
      ]
    },
    {
      "cell_type": "markdown",
      "metadata": {
        "id": "qqXrRXXSx42K",
        "colab_type": "text"
      },
      "source": [
        "### Phone Numbers"
      ]
    },
    {
      "cell_type": "code",
      "metadata": {
        "id": "FI6e20FxpsPZ",
        "colab_type": "code",
        "outputId": "d4d179c7-5481-4388-bb8f-6525b332d89f",
        "colab": {
          "base_uri": "https://localhost:8080/",
          "height": 136
        }
      },
      "source": [
        "verbal_expression = VerEx()\n",
        "\n",
        "phoneExp = (verbal_expression.\n",
        "            start_of_line().\n",
        "            maybe(\"(\").\n",
        "            range('0', '9').\n",
        "            add('{3}').\n",
        "            maybe(\")\").\n",
        "            maybe(\" \").\n",
        "            maybe(\".\").\n",
        "            range('0', '9').\n",
        "            add('{3}').\n",
        "            maybe(\"-\").\n",
        "            maybe(\".\").\n",
        "            range('0', '9').\n",
        "            add('{4}').\n",
        "            end_of_line()\n",
        ")\n",
        "\n",
        "test_phoneNums = [\"(123) 456-7890\", \"(123) 456-789\", \"(123)456-7890\", \"123.456.7890\", \"123.456.789011\", \"123-456-7890\"]\n",
        "print(phoneExp.source())\n",
        "\n",
        "for num in test_phoneNums:\n",
        "  if phoneExp.match(num) is not None:\n",
        "    print('valid num:', num)\n",
        "  else:\n",
        "    print('invalid num:', num)"
      ],
      "execution_count": 0,
      "outputs": [
        {
          "output_type": "stream",
          "text": [
            "^(\\()?([0-9]){3}(\\))?(\\ )?(\\.)?([0-9]){3}(\\-)?(\\.)?([0-9]){4}$\n",
            "valid num: (123) 456-7890\n",
            "invalid num: (123) 456-789\n",
            "valid num: (123)456-7890\n",
            "valid num: 123.456.7890\n",
            "invalid num: 123.456.789011\n",
            "invalid num: 123-456-7890\n"
          ],
          "name": "stdout"
        }
      ]
    },
    {
      "cell_type": "markdown",
      "metadata": {
        "id": "UKlf2lt3EsZ7",
        "colab_type": "text"
      },
      "source": [
        "### Concatenate multiple expressions"
      ]
    },
    {
      "cell_type": "code",
      "metadata": {
        "id": "DhIoJCYc4Esm",
        "colab_type": "code",
        "outputId": "565c6f5c-39fe-4df1-97a9-e511e4885f67",
        "colab": {
          "base_uri": "https://localhost:8080/",
          "height": 136
        }
      },
      "source": [
        "import re\n",
        "verbal_expression = VerEx()\n",
        "\n",
        "groups = ( verbal_expression.\n",
        "        start_of_line().\n",
        "            add(\"[a-zA-Z0-9_ ]*\").\n",
        "            add(\"(\" + phoneExp.source()[1:-1] + \")\").\n",
        "            add(\"[a-zA-Z0-9_ ]*\").\n",
        "        end_of_line()\n",
        ")\n",
        "print(groups.source())\n",
        "\n",
        "tests = [\n",
        "        \"My phone number is (123)456-7890\",\n",
        "        \"(987) 654-3210 is my contact number\",\n",
        "        \"My name is Rajan\"\n",
        "]\n",
        "\n",
        "for i, test in enumerate(tests):\n",
        "  print('###'+ str(i+1) +'###')\n",
        "  reg = re.search(groups.source(), test)\n",
        "  print('Phone:', reg.group(1) if reg is not None else 'match not found')"
      ],
      "execution_count": 0,
      "outputs": [
        {
          "output_type": "stream",
          "text": [
            "^[a-zA-Z0-9_ ]*((\\()?([0-9]){3}(\\))?(\\ )?(\\.)?([0-9]){3}(\\-)?(\\.)?([0-9]){4})[a-zA-Z0-9_ ]*$\n",
            "###1###\n",
            "Phone: (123)456-7890\n",
            "###2###\n",
            "Phone: (987) 654-3210\n",
            "###3###\n",
            "Phone: match not found\n"
          ],
          "name": "stdout"
        }
      ]
    },
    {
      "cell_type": "markdown",
      "metadata": {
        "id": "jK6Z7sYm2GeO",
        "colab_type": "text"
      },
      "source": [
        "### Replace Strings"
      ]
    },
    {
      "cell_type": "code",
      "metadata": {
        "id": "6iJD9EkPrak7",
        "colab_type": "code",
        "outputId": "3d1c0408-e7f5-4ea3-d50c-041635ab5a2a",
        "colab": {
          "base_uri": "https://localhost:8080/",
          "height": 34
        }
      },
      "source": [
        "result = VerEx().find('red').replace('We have a red house', 'blue')\n",
        "result"
      ],
      "execution_count": 0,
      "outputs": [
        {
          "output_type": "execute_result",
          "data": {
            "text/plain": [
              "'We have a blue house'"
            ]
          },
          "metadata": {
            "tags": []
          },
          "execution_count": 45
        }
      ]
    }
  ]
}