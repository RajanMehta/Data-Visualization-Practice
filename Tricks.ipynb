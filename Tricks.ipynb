{
  "nbformat": 4,
  "nbformat_minor": 0,
  "metadata": {
    "colab": {
      "name": "Tricks.ipynb",
      "version": "0.3.2",
      "provenance": [],
      "collapsed_sections": [],
      "include_colab_link": true
    },
    "kernelspec": {
      "name": "python3",
      "display_name": "Python 3"
    }
  },
  "cells": [
    {
      "cell_type": "markdown",
      "metadata": {
        "id": "view-in-github",
        "colab_type": "text"
      },
      "source": [
        "<a href=\"https://colab.research.google.com/github/RajanMehta/practice-libraries/blob/master/Tricks.ipynb\" target=\"_parent\"><img src=\"https://colab.research.google.com/assets/colab-badge.svg\" alt=\"Open In Colab\"/></a>"
      ]
    },
    {
      "cell_type": "markdown",
      "metadata": {
        "id": "VY0qHMOG9OZN",
        "colab_type": "text"
      },
      "source": [
        "### Functions"
      ]
    },
    {
      "cell_type": "code",
      "metadata": {
        "id": "cUSB2Q5VNilg",
        "colab_type": "code",
        "outputId": "10cf5128-d72a-46cd-e739-14a0c07f73db",
        "colab": {
          "base_uri": "https://localhost:8080/",
          "height": 34
        }
      },
      "source": [
        "def yell(text):\n",
        "  return text.upper() + '!'\n",
        "\n",
        "\n",
        "yell('hello!')"
      ],
      "execution_count": 0,
      "outputs": [
        {
          "output_type": "execute_result",
          "data": {
            "text/plain": [
              "'HELLO!!'"
            ]
          },
          "metadata": {
            "tags": []
          },
          "execution_count": 2
        }
      ]
    },
    {
      "cell_type": "code",
      "metadata": {
        "id": "5ODGkLFV9WWy",
        "colab_type": "code",
        "outputId": "8f0b39fd-bedf-4dca-b501-3d0c5808564e",
        "colab": {
          "base_uri": "https://localhost:8080/",
          "height": 34
        }
      },
      "source": [
        "## Functions are objects\n",
        "\n",
        "bark = yell\n",
        "bark('woof!')"
      ],
      "execution_count": 0,
      "outputs": [
        {
          "output_type": "execute_result",
          "data": {
            "text/plain": [
              "'WOOF!!'"
            ]
          },
          "metadata": {
            "tags": []
          },
          "execution_count": 3
        }
      ]
    },
    {
      "cell_type": "code",
      "metadata": {
        "id": "7UuLoCmB9dqM",
        "colab_type": "code",
        "outputId": "e0f554e2-8c7a-4a1b-abe9-ab353c6090d0",
        "colab": {
          "base_uri": "https://localhost:8080/",
          "height": 34
        }
      },
      "source": [
        "bark.__name__"
      ],
      "execution_count": 0,
      "outputs": [
        {
          "output_type": "execute_result",
          "data": {
            "text/plain": [
              "'yell'"
            ]
          },
          "metadata": {
            "tags": []
          },
          "execution_count": 4
        }
      ]
    },
    {
      "cell_type": "code",
      "metadata": {
        "id": "GuiF6Dn09rwp",
        "colab_type": "code",
        "outputId": "5d68a233-320f-4e2b-f5ac-2cb26caba627",
        "colab": {
          "base_uri": "https://localhost:8080/",
          "height": 70
        }
      },
      "source": [
        "## Functions Can Be Stored in Data Structures\n",
        "\n",
        "funcs = [bark, str.lower, str.capitalize]\n",
        "funcs"
      ],
      "execution_count": 0,
      "outputs": [
        {
          "output_type": "execute_result",
          "data": {
            "text/plain": [
              "[<function __main__.yell>,\n",
              " <method 'lower' of 'str' objects>,\n",
              " <method 'capitalize' of 'str' objects>]"
            ]
          },
          "metadata": {
            "tags": []
          },
          "execution_count": 5
        }
      ]
    },
    {
      "cell_type": "code",
      "metadata": {
        "id": "4NEWOfScK6cB",
        "colab_type": "code",
        "outputId": "f1d212b9-ebc1-45f4-e3e0-31aff1a86189",
        "colab": {
          "base_uri": "https://localhost:8080/",
          "height": 70
        }
      },
      "source": [
        "for f in funcs:\n",
        "  print(f, f('hey there'))"
      ],
      "execution_count": 0,
      "outputs": [
        {
          "output_type": "stream",
          "text": [
            "<function yell at 0x7fc358156d08> HEY THERE!\n",
            "<method 'lower' of 'str' objects> hey there\n",
            "<method 'capitalize' of 'str' objects> Hey there\n"
          ],
          "name": "stdout"
        }
      ]
    },
    {
      "cell_type": "code",
      "metadata": {
        "id": "_SCzTuDkLTrQ",
        "colab_type": "code",
        "outputId": "f24bb246-ec75-4968-cabf-66a8849c0518",
        "colab": {
          "base_uri": "https://localhost:8080/",
          "height": 34
        }
      },
      "source": [
        "funcs[0]('heyho')"
      ],
      "execution_count": 0,
      "outputs": [
        {
          "output_type": "execute_result",
          "data": {
            "text/plain": [
              "'HEYHO!'"
            ]
          },
          "metadata": {
            "tags": []
          },
          "execution_count": 7
        }
      ]
    },
    {
      "cell_type": "code",
      "metadata": {
        "id": "fUDyheIFLVPS",
        "colab_type": "code",
        "outputId": "8eb2babf-2c0e-4e36-b251-18c3dbe747d2",
        "colab": {
          "base_uri": "https://localhost:8080/",
          "height": 34
        }
      },
      "source": [
        "## Functions Can Be Passed to Other Functions\n",
        "\n",
        "def greet(func):\n",
        "  greeting = func('Hi, I am a Python program')\n",
        "  print(greeting)\n",
        "  \n",
        "greet(bark)"
      ],
      "execution_count": 0,
      "outputs": [
        {
          "output_type": "stream",
          "text": [
            "HI, I AM A PYTHON PROGRAM!\n"
          ],
          "name": "stdout"
        }
      ]
    },
    {
      "cell_type": "code",
      "metadata": {
        "id": "IwJMDGYdMcDs",
        "colab_type": "code",
        "outputId": "f1b93ec8-91bb-4d7b-cd67-f59694421d8b",
        "colab": {
          "base_uri": "https://localhost:8080/",
          "height": 34
        }
      },
      "source": [
        "list(map(bark, ['hello', 'hey', 'hi']))"
      ],
      "execution_count": 0,
      "outputs": [
        {
          "output_type": "execute_result",
          "data": {
            "text/plain": [
              "['HELLO!', 'HEY!', 'HI!']"
            ]
          },
          "metadata": {
            "tags": []
          },
          "execution_count": 11
        }
      ]
    },
    {
      "cell_type": "code",
      "metadata": {
        "id": "FZMlHD2Fg01k",
        "colab_type": "code",
        "outputId": "e3d5dce2-2692-4476-de67-e7d32d0be2ce",
        "colab": {
          "base_uri": "https://localhost:8080/",
          "height": 34
        }
      },
      "source": [
        "## Functions can be nested\n",
        "\n",
        "def get_speak_func(text, volume):\n",
        "  def whisper():\n",
        "    return text.lower() + '...'\n",
        "  def yell():\n",
        "    return text.upper() + '!'\n",
        "  if volume > 0.5:\n",
        "    return yell\n",
        "  else:\n",
        "    return whisper\n",
        "\n",
        "\n",
        "get_speak_func('Hello', 0.7)()"
      ],
      "execution_count": 0,
      "outputs": [
        {
          "output_type": "execute_result",
          "data": {
            "text/plain": [
              "'HELLO!'"
            ]
          },
          "metadata": {
            "tags": []
          },
          "execution_count": 16
        }
      ]
    },
    {
      "cell_type": "markdown",
      "metadata": {
        "id": "Xo68YbpEmwbg",
        "colab_type": "text"
      },
      "source": [
        "### Lambda Function"
      ]
    },
    {
      "cell_type": "code",
      "metadata": {
        "id": "T_T4kn-dhHOZ",
        "colab_type": "code",
        "outputId": "1c50c3be-67b5-4106-dd4a-05f32ad4a59c",
        "colab": {
          "base_uri": "https://localhost:8080/",
          "height": 34
        }
      },
      "source": [
        "add = lambda x, y: x + y\n",
        "add(5, 3)"
      ],
      "execution_count": 0,
      "outputs": [
        {
          "output_type": "execute_result",
          "data": {
            "text/plain": [
              "8"
            ]
          },
          "metadata": {
            "tags": []
          },
          "execution_count": 17
        }
      ]
    },
    {
      "cell_type": "code",
      "metadata": {
        "id": "OjcDNR-Cm6aF",
        "colab_type": "code",
        "outputId": "baf5bdcd-5194-4c57-ca04-cd6d0f54afa5",
        "colab": {
          "base_uri": "https://localhost:8080/",
          "height": 34
        }
      },
      "source": [
        "(lambda x, y: x + y)(5, 3)"
      ],
      "execution_count": 0,
      "outputs": [
        {
          "output_type": "execute_result",
          "data": {
            "text/plain": [
              "8"
            ]
          },
          "metadata": {
            "tags": []
          },
          "execution_count": 18
        }
      ]
    },
    {
      "cell_type": "markdown",
      "metadata": {
        "id": "XeeWT55GFITW",
        "colab_type": "text"
      },
      "source": [
        "### Closures"
      ]
    },
    {
      "cell_type": "code",
      "metadata": {
        "id": "0Mu7lhQjFKXX",
        "colab_type": "code",
        "outputId": "5754a818-04ff-4ff3-825c-529cc39ab6cb",
        "colab": {
          "base_uri": "https://localhost:8080/",
          "height": 34
        }
      },
      "source": [
        "def outer_func():\n",
        "  msg = 'Hi'\n",
        "  \n",
        "  def inner_func():\n",
        "    print(msg)\n",
        "  \n",
        "  return inner_func()\n",
        "\n",
        "outer_func()"
      ],
      "execution_count": 0,
      "outputs": [
        {
          "output_type": "stream",
          "text": [
            "Hi\n"
          ],
          "name": "stdout"
        }
      ]
    },
    {
      "cell_type": "code",
      "metadata": {
        "id": "T34gCY49Fjy_",
        "colab_type": "code",
        "outputId": "35b816f3-43d1-43c7-b64d-238239c29ffa",
        "colab": {
          "base_uri": "https://localhost:8080/",
          "height": 52
        }
      },
      "source": [
        "def outer_func():\n",
        "  msg = 'Hi'\n",
        "  \n",
        "  def inner_func():\n",
        "    print(msg)\n",
        "  \n",
        "  return inner_func\n",
        "\n",
        "\n",
        "my_func = outer_func()\n",
        "\n",
        "print(my_func.__name__)\n",
        "my_func()     # a closure is an inner function that remembers and has access to variables in the local scope in which it was created even after the outer func has finished executing"
      ],
      "execution_count": 0,
      "outputs": [
        {
          "output_type": "stream",
          "text": [
            "inner_func\n",
            "Hi\n"
          ],
          "name": "stdout"
        }
      ]
    },
    {
      "cell_type": "markdown",
      "metadata": {
        "id": "f_FFP0FLys_V",
        "colab_type": "text"
      },
      "source": [
        "### Decorator"
      ]
    },
    {
      "cell_type": "code",
      "metadata": {
        "id": "vwMP8ddfxUrS",
        "colab_type": "code",
        "outputId": "bff25f6b-f318-4fb6-f926-3c958853100c",
        "colab": {
          "base_uri": "https://localhost:8080/",
          "height": 52
        }
      },
      "source": [
        "def decorator_func(original_func):\n",
        "  def wrapper_func():\n",
        "    print('wrapper executed this before {} function'.format(original_func.__name__))\n",
        "    return original_func()\n",
        "  return wrapper_func\n",
        "\n",
        "def display():\n",
        "  print('display function ran')\n",
        "  \n",
        "decorated_display = decorator_func(display)\n",
        "\n",
        "decorated_display()"
      ],
      "execution_count": 0,
      "outputs": [
        {
          "output_type": "stream",
          "text": [
            "wrapper executed this before display function\n",
            "display function ran\n"
          ],
          "name": "stdout"
        }
      ]
    },
    {
      "cell_type": "code",
      "metadata": {
        "id": "0MoMaTmPyJaW",
        "colab_type": "code",
        "outputId": "ee778b08-7a65-4c60-f9ba-9237a9bc15be",
        "colab": {
          "base_uri": "https://localhost:8080/",
          "height": 52
        }
      },
      "source": [
        "@decorator_func\n",
        "def display():\n",
        "  print('display function ran')\n",
        "  \n",
        "display()"
      ],
      "execution_count": 0,
      "outputs": [
        {
          "output_type": "stream",
          "text": [
            "wrapper executed this before display function\n",
            "display function ran\n"
          ],
          "name": "stdout"
        }
      ]
    },
    {
      "cell_type": "code",
      "metadata": {
        "id": "F9QMWRK315M2",
        "colab_type": "code",
        "outputId": "36510854-78b8-41e9-b48c-6df8a6b354a7",
        "colab": {
          "base_uri": "https://localhost:8080/",
          "height": 87
        }
      },
      "source": [
        "## wrapper with arguments\n",
        "\n",
        "def decorator_func(original_func):\n",
        "  def wrapper_func(*args, **kwargs):\n",
        "    print('########')\n",
        "    return original_func(*args, **kwargs)\n",
        "  return wrapper_func\n",
        "\n",
        "\n",
        "@decorator_func\n",
        "def display_info(name, age):\n",
        "  print('My name is {} and I am {} years old'.format(name, age))\n",
        "  \n",
        "@decorator_func\n",
        "def display():\n",
        "  print('display function ran')\n",
        "\n",
        "\n",
        "display()\n",
        "  \n",
        "display_info('Rajan', '24')    #now, the decorator is working with or without arguments"
      ],
      "execution_count": 0,
      "outputs": [
        {
          "output_type": "stream",
          "text": [
            "########\n",
            "display function ran\n",
            "########\n",
            "My name is Rajan and I am 24 years old\n"
          ],
          "name": "stdout"
        }
      ]
    },
    {
      "cell_type": "code",
      "metadata": {
        "id": "1W3uDii5nENU",
        "colab_type": "code",
        "outputId": "7904df8b-a339-462c-9d7f-191f59b1e30b",
        "colab": {
          "base_uri": "https://localhost:8080/",
          "height": 34
        }
      },
      "source": [
        "## Another Example \n",
        "\n",
        "def uppercase(func):\n",
        "  def wrapper():     # a closure\n",
        "    original_result = func()\n",
        "    modified_result = original_result.upper()\n",
        "    return modified_result\n",
        "  return wrapper\n",
        "\n",
        "\n",
        "@uppercase\n",
        "def greet():\n",
        "  return 'Hello!'\n",
        "\n",
        "greet()"
      ],
      "execution_count": 0,
      "outputs": [
        {
          "output_type": "execute_result",
          "data": {
            "text/plain": [
              "'HELLO!'"
            ]
          },
          "metadata": {
            "tags": []
          },
          "execution_count": 29
        }
      ]
    },
    {
      "cell_type": "code",
      "metadata": {
        "id": "iHpUIeQi3fht",
        "colab_type": "code",
        "colab": {}
      },
      "source": [
        "## A different implementation of decorator using Class\n",
        "\n",
        "class decorator_class(object):\n",
        "  \n",
        "  def __init__(self, original_func):\n",
        "    self.original_func = original_func   #ties function with instance of class\n",
        "    \n",
        "  def __call__(self, *args, **kwargs):\n",
        "    print('call method executed this before {} function'.format(self.original_func.__name__))\n",
        "    return self.original_func(*args, **kwargs)"
      ],
      "execution_count": 0,
      "outputs": []
    },
    {
      "cell_type": "code",
      "metadata": {
        "id": "og3tl0oE7Nv1",
        "colab_type": "code",
        "outputId": "8db76322-e3da-4725-b483-07f15bc6277f",
        "colab": {
          "base_uri": "https://localhost:8080/",
          "height": 52
        }
      },
      "source": [
        "@decorator_class\n",
        "def display_info(name, age):\n",
        "  print('My name is {} and I am {} years old'.format(name, age))\n",
        "  \n",
        "@decorator_class\n",
        "def display():\n",
        "  print('display function ran')\n",
        "  \n",
        "display_info('Rajan', 24)"
      ],
      "execution_count": 0,
      "outputs": [
        {
          "output_type": "stream",
          "text": [
            "call method executed this before display_info function\n",
            "My name is Rajan and I am 24 years old\n"
          ],
          "name": "stdout"
        }
      ]
    },
    {
      "cell_type": "code",
      "metadata": {
        "id": "b-K41U5Y74Zh",
        "colab_type": "code",
        "outputId": "2d93594d-824e-4021-8f69-3e0e27e0f5a3",
        "colab": {
          "base_uri": "https://localhost:8080/",
          "height": 52
        }
      },
      "source": [
        "## Practical Examples\n",
        "\n",
        "from functools import wraps\n",
        "import time\n",
        "\n",
        "def my_timer(orig_func):\n",
        "    import time\n",
        "\n",
        "    @wraps(orig_func)\n",
        "    def wrapper(*args, **kwargs):\n",
        "        t1 = time.time()\n",
        "        result = orig_func(*args, **kwargs)\n",
        "        t2 = time.time() - t1\n",
        "        print('{} ran in: {} sec'.format(orig_func.__name__, t2))\n",
        "        return result\n",
        "\n",
        "    return wrapper\n",
        "\n",
        "\n",
        "@my_timer\n",
        "def display_info(name, age):\n",
        "    time.sleep(1)\n",
        "    print('display_info ran with arguments ({}, {})'.format(name, age))\n",
        "\n",
        "display_info('Tom', 22)"
      ],
      "execution_count": 0,
      "outputs": [
        {
          "output_type": "stream",
          "text": [
            "display_info ran with arguments (Tom, 22)\n",
            "display_info ran in: 1.0013360977172852 sec\n"
          ],
          "name": "stdout"
        }
      ]
    },
    {
      "cell_type": "markdown",
      "metadata": {
        "id": "taw5YnnUK2r-",
        "colab_type": "text"
      },
      "source": [
        "### Dictionaries"
      ]
    },
    {
      "cell_type": "code",
      "metadata": {
        "id": "5HapW2NCK6DP",
        "colab_type": "code",
        "outputId": "6424115c-8185-4cf2-d401-b77b9a371a2a",
        "colab": {
          "base_uri": "https://localhost:8080/",
          "height": 34
        }
      },
      "source": [
        "import collections\n",
        "\n",
        "d = collections.OrderedDict(one=1, two=2, three=3)\n",
        "\n",
        "d"
      ],
      "execution_count": 0,
      "outputs": [
        {
          "output_type": "execute_result",
          "data": {
            "text/plain": [
              "OrderedDict([('one', 1), ('two', 2), ('three', 3)])"
            ]
          },
          "metadata": {
            "tags": []
          },
          "execution_count": 33
        }
      ]
    },
    {
      "cell_type": "code",
      "metadata": {
        "id": "qgF1sc4_K_rD",
        "colab_type": "code",
        "outputId": "d47e0368-0aa5-4d7b-95ef-bbce97d66f9b",
        "colab": {
          "base_uri": "https://localhost:8080/",
          "height": 34
        }
      },
      "source": [
        "d['four'] = 4\n",
        "\n",
        "d"
      ],
      "execution_count": 0,
      "outputs": [
        {
          "output_type": "execute_result",
          "data": {
            "text/plain": [
              "OrderedDict([('one', 1), ('two', 2), ('three', 3), ('four', 4)])"
            ]
          },
          "metadata": {
            "tags": []
          },
          "execution_count": 35
        }
      ]
    },
    {
      "cell_type": "code",
      "metadata": {
        "id": "f7HqRd0yLDDs",
        "colab_type": "code",
        "outputId": "29d94691-1267-4f53-8014-1adddc34623a",
        "colab": {
          "base_uri": "https://localhost:8080/",
          "height": 34
        }
      },
      "source": [
        "d.keys()"
      ],
      "execution_count": 0,
      "outputs": [
        {
          "output_type": "execute_result",
          "data": {
            "text/plain": [
              "odict_keys(['one', 'two', 'three', 'four'])"
            ]
          },
          "metadata": {
            "tags": []
          },
          "execution_count": 36
        }
      ]
    },
    {
      "cell_type": "code",
      "metadata": {
        "id": "3Wj6l7gJLGVw",
        "colab_type": "code",
        "outputId": "79c7b232-ee12-49e6-c627-1670396cf233",
        "colab": {
          "base_uri": "https://localhost:8080/",
          "height": 34
        }
      },
      "source": [
        "d.values()"
      ],
      "execution_count": 0,
      "outputs": [
        {
          "output_type": "execute_result",
          "data": {
            "text/plain": [
              "odict_values([1, 2, 3, 4])"
            ]
          },
          "metadata": {
            "tags": []
          },
          "execution_count": 37
        }
      ]
    },
    {
      "cell_type": "code",
      "metadata": {
        "id": "b25aeoNtLIIx",
        "colab_type": "code",
        "outputId": "74a92c88-e8ac-4919-c00c-a5fd6ed7ae5c",
        "colab": {
          "base_uri": "https://localhost:8080/",
          "height": 34
        }
      },
      "source": [
        "## ChainMap data structure groups multiple dictionaries into a single mapping\n",
        "\n",
        "from collections import ChainMap\n",
        "\n",
        "dict1 = {'one': 1, 'two': 2}\n",
        "dict2 = {'three': 3, 'four': 4}\n",
        "\n",
        "chain = ChainMap(dict1, dict2)\n",
        "\n",
        "chain"
      ],
      "execution_count": 0,
      "outputs": [
        {
          "output_type": "execute_result",
          "data": {
            "text/plain": [
              "ChainMap({'one': 1, 'two': 2}, {'three': 3, 'four': 4})"
            ]
          },
          "metadata": {
            "tags": []
          },
          "execution_count": 39
        }
      ]
    },
    {
      "cell_type": "code",
      "metadata": {
        "id": "AWr4WXVbLyHC",
        "colab_type": "code",
        "outputId": "4deb5c1c-d917-4fc4-90c3-e13dd2f1ff03",
        "colab": {
          "base_uri": "https://localhost:8080/",
          "height": 34
        }
      },
      "source": [
        "chain['three']"
      ],
      "execution_count": 0,
      "outputs": [
        {
          "output_type": "execute_result",
          "data": {
            "text/plain": [
              "3"
            ]
          },
          "metadata": {
            "tags": []
          },
          "execution_count": 40
        }
      ]
    },
    {
      "cell_type": "code",
      "metadata": {
        "id": "fC1hJRWNNYyK",
        "colab_type": "code",
        "outputId": "5b3bea46-9f68-405c-8f83-739182e51ac1",
        "colab": {
          "base_uri": "https://localhost:8080/",
          "height": 34
        }
      },
      "source": [
        "# Make read-only dictionaries\n",
        "\n",
        "from types import MappingProxyType\n",
        "\n",
        "writable = {'one': 1, 'two': 2}\n",
        "read_only = MappingProxyType(writable)\n",
        "\n",
        "read_only['one']"
      ],
      "execution_count": 0,
      "outputs": [
        {
          "output_type": "execute_result",
          "data": {
            "text/plain": [
              "1"
            ]
          },
          "metadata": {
            "tags": []
          },
          "execution_count": 41
        }
      ]
    },
    {
      "cell_type": "code",
      "metadata": {
        "id": "xWNc4o4KNhsW",
        "colab_type": "code",
        "outputId": "11939601-d5a4-4904-a2be-504088011699",
        "colab": {
          "base_uri": "https://localhost:8080/",
          "height": 167
        }
      },
      "source": [
        "read_only['one'] = 23"
      ],
      "execution_count": 0,
      "outputs": [
        {
          "output_type": "error",
          "ename": "TypeError",
          "evalue": "ignored",
          "traceback": [
            "\u001b[0;31m---------------------------------------------------------------------------\u001b[0m",
            "\u001b[0;31mTypeError\u001b[0m                                 Traceback (most recent call last)",
            "\u001b[0;32m<ipython-input-42-8d269ba54945>\u001b[0m in \u001b[0;36m<module>\u001b[0;34m()\u001b[0m\n\u001b[0;32m----> 1\u001b[0;31m \u001b[0mread_only\u001b[0m\u001b[0;34m[\u001b[0m\u001b[0;34m'one'\u001b[0m\u001b[0;34m]\u001b[0m \u001b[0;34m=\u001b[0m \u001b[0;36m23\u001b[0m\u001b[0;34m\u001b[0m\u001b[0;34m\u001b[0m\u001b[0m\n\u001b[0m",
            "\u001b[0;31mTypeError\u001b[0m: 'mappingproxy' object does not support item assignment"
          ]
        }
      ]
    },
    {
      "cell_type": "code",
      "metadata": {
        "id": "kkmkNYZiNjca",
        "colab_type": "code",
        "outputId": "1bd1a27a-141f-4b5f-a0bb-2ab86e036430",
        "colab": {
          "base_uri": "https://localhost:8080/",
          "height": 34
        }
      },
      "source": [
        "writable['one'] = 23\n",
        "\n",
        "read_only"
      ],
      "execution_count": 0,
      "outputs": [
        {
          "output_type": "execute_result",
          "data": {
            "text/plain": [
              "mappingproxy({'one': 23, 'two': 2})"
            ]
          },
          "metadata": {
            "tags": []
          },
          "execution_count": 44
        }
      ]
    },
    {
      "cell_type": "code",
      "metadata": {
        "id": "PP5h2bb_S-kk",
        "colab_type": "code",
        "outputId": "52e2fde7-9c53-4ff3-a882-79a93bc18df7",
        "colab": {
          "base_uri": "https://localhost:8080/",
          "height": 34
        }
      },
      "source": [
        "## Default Values\n",
        "\n",
        "name_for_userid = {\n",
        "  382: 'Alice',\n",
        "  950: 'Bob',\n",
        "  590: 'Dilbert',\n",
        "}\n",
        "\n",
        "\n",
        "def greeting(userid):      #inefficient coz it queries the dict twice\n",
        "  if userid in name_for_userid:\n",
        "    return 'Hi %s!' % name_for_userid[userid]\n",
        "  else:\n",
        "    return 'Hi there!'\n",
        "  \n",
        "def greeting(userid):     #better\n",
        "  try:\n",
        "    return 'Hi %s!' % name_for_userid[userid]\n",
        "  except KeyError:\n",
        "    return 'Hi there'\n",
        "  \n",
        "def greeting(userid):     #best\n",
        "  return 'Hi %s!' % name_for_userid.get(userid, 'there')"
      ],
      "execution_count": 0,
      "outputs": [
        {
          "output_type": "execute_result",
          "data": {
            "text/plain": [
              "'Hi there!'"
            ]
          },
          "metadata": {
            "tags": []
          },
          "execution_count": 47
        }
      ]
    },
    {
      "cell_type": "code",
      "metadata": {
        "id": "-4hLOGcAX5Hf",
        "colab_type": "code",
        "outputId": "5a76cd00-58a2-4a4f-c4f9-c50e18abc2fb",
        "colab": {
          "base_uri": "https://localhost:8080/",
          "height": 34
        }
      },
      "source": [
        "## Sorting Dicts\n",
        "\n",
        "xs = {'a': 4, 'c': 2, 'b': 3, 'd': 1}\n",
        "\n",
        "sorted(xs.items())"
      ],
      "execution_count": 0,
      "outputs": [
        {
          "output_type": "execute_result",
          "data": {
            "text/plain": [
              "[('a', 4), ('b', 3), ('c', 2), ('d', 1)]"
            ]
          },
          "metadata": {
            "tags": []
          },
          "execution_count": 48
        }
      ]
    },
    {
      "cell_type": "code",
      "metadata": {
        "id": "lyrUy9FTX-1H",
        "colab_type": "code",
        "outputId": "d1de239f-cbfb-4bd1-b871-d88168c26fd7",
        "colab": {
          "base_uri": "https://localhost:8080/",
          "height": 34
        }
      },
      "source": [
        "sorted(xs.items(), key=lambda x: x[1])"
      ],
      "execution_count": 0,
      "outputs": [
        {
          "output_type": "execute_result",
          "data": {
            "text/plain": [
              "[('d', 1), ('c', 2), ('b', 3), ('a', 4)]"
            ]
          },
          "metadata": {
            "tags": []
          },
          "execution_count": 49
        }
      ]
    },
    {
      "cell_type": "code",
      "metadata": {
        "id": "-KAbkAAbYB44",
        "colab_type": "code",
        "outputId": "d373b2ca-4da4-4884-f299-0581ca1d168d",
        "colab": {
          "base_uri": "https://localhost:8080/",
          "height": 34
        }
      },
      "source": [
        "## Emulating Switch/Case Statements With Dicts\n",
        "\n",
        "def dispatch_if(operator, x, y):\n",
        "  if operator == 'add':\n",
        "    return x + y\n",
        "  elif operator == 'sub':\n",
        "    return x - y\n",
        "  elif operator == 'mul':\n",
        "    return x * y\n",
        "  elif operator == 'div':\n",
        "    return x / y\n",
        "\n",
        "dispatch_if('mul', 2, 8)"
      ],
      "execution_count": 0,
      "outputs": [
        {
          "output_type": "execute_result",
          "data": {
            "text/plain": [
              "16"
            ]
          },
          "metadata": {
            "tags": []
          },
          "execution_count": 50
        }
      ]
    },
    {
      "cell_type": "code",
      "metadata": {
        "id": "lsbXdOgiZmF4",
        "colab_type": "code",
        "outputId": "d4cdb433-4e97-4c07-f1e3-9bd491b64ffe",
        "colab": {
          "base_uri": "https://localhost:8080/",
          "height": 34
        }
      },
      "source": [
        "def dispatch_dict(operator, x, y):\n",
        "  return {\n",
        "      'add': lambda: x + y,\n",
        "      'sub': lambda: x - y,\n",
        "      'mul': lambda: x * y,\n",
        "      'div': lambda: x / y,\n",
        "  }.get(operator, lambda: None)()\n",
        "\n",
        "\n",
        "dispatch_dict('mul', 2, 8)"
      ],
      "execution_count": 0,
      "outputs": [
        {
          "output_type": "execute_result",
          "data": {
            "text/plain": [
              "16"
            ]
          },
          "metadata": {
            "tags": []
          },
          "execution_count": 52
        }
      ]
    },
    {
      "cell_type": "code",
      "metadata": {
        "id": "He3jfYvyaPLn",
        "colab_type": "code",
        "outputId": "f3a3bcc0-4bc2-453e-c41d-d6e5ec80d77a",
        "colab": {
          "base_uri": "https://localhost:8080/",
          "height": 34
        }
      },
      "source": [
        "## CRAZY Dict expression\n",
        "\n",
        "{True: 'yes', 1: 'no', 1.0: 'maybe'}     # In python, True == 1 == 1.0 ... As the interpreter evaluates the dictionary expression, it repeatedly overwrites the value for the key True"
      ],
      "execution_count": 0,
      "outputs": [
        {
          "output_type": "execute_result",
          "data": {
            "text/plain": [
              "{True: 'maybe'}"
            ]
          },
          "metadata": {
            "tags": []
          },
          "execution_count": 54
        }
      ]
    }
  ]
}