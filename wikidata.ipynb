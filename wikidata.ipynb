{
  "nbformat": 4,
  "nbformat_minor": 0,
  "metadata": {
    "colab": {
      "name": "wikidata.ipynb",
      "provenance": [],
      "collapsed_sections": [],
      "include_colab_link": true
    },
    "kernelspec": {
      "name": "python3",
      "display_name": "Python 3"
    }
  },
  "cells": [
    {
      "cell_type": "markdown",
      "metadata": {
        "id": "view-in-github",
        "colab_type": "text"
      },
      "source": [
        "<a href=\"https://colab.research.google.com/github/RajanMehta/nlp-pocs/blob/master/wikidata.ipynb\" target=\"_parent\"><img src=\"https://colab.research.google.com/assets/colab-badge.svg\" alt=\"Open In Colab\"/></a>"
      ]
    },
    {
      "cell_type": "markdown",
      "metadata": {
        "id": "XEGDwXOQVUOl",
        "colab_type": "text"
      },
      "source": [
        "## Query Wikidata\n",
        "\n",
        "A brief introduction: https://towardsdatascience.com/a-brief-introduction-to-wikidata-bb4e66395eb1"
      ]
    },
    {
      "cell_type": "markdown",
      "metadata": {
        "id": "3d6wKkB0Vj1V",
        "colab_type": "text"
      },
      "source": [
        "## Ask about entities and their properties"
      ]
    },
    {
      "cell_type": "code",
      "metadata": {
        "id": "L7G_zPXJPdvn",
        "colab_type": "code",
        "colab": {}
      },
      "source": [
        "import requests\n",
        "\n",
        "def get_property(prop):\n",
        "    url = 'https://www.wikidata.org/w/api.php'\n",
        "    r = requests.get(url, params = {'format': 'json', 'search': prop, 'action': 'wbsearchentities', 'type': 'property', 'language': 'en'})\n",
        "    data = r.json()\n",
        "    return data['search'][0] if len(data['search']) else None\n",
        "\n",
        "\n",
        "def get_item(item):\n",
        "    url = 'https://www.wikidata.org/w/api.php'\n",
        "    r = requests.get(url, params = {'format': 'json', 'search': item, 'action': 'wbsearchentities', 'type': 'item', 'language': 'en'})\n",
        "    data = r.json()\n",
        "    return data['search'][0] if len(data['search']) else None\n",
        "\n",
        "\n",
        "def query_wikidata(item, prop=None):\n",
        "    url = 'https://query.wikidata.org/sparql'\n",
        "    item_id = get_item(item)['id']\n",
        "\n",
        "    if prop:\n",
        "        prop_id = get_property(prop)['id']\n",
        "        query = \"\"\"\n",
        "        SELECT ?ans ?ansLabel\n",
        "        WHERE \n",
        "        {\n",
        "          wd:%s  wdt:%s ?ans.\n",
        "          SERVICE wikibase:label { bd:serviceParam wikibase:language\n",
        "          \"[AUTO_LANGUAGE],en\". }\n",
        "        }\n",
        "        \"\"\" % (item_id, prop_id)\n",
        "\n",
        "        r = requests.get(url, params = {'format': 'json', 'query': query})\n",
        "        r = r.json()\n",
        "        return r['results']['bindings'][0]['ansLabel']['value'] if len(r['results']['bindings']) else None\n",
        "\n",
        "    else:\n",
        "        r = get_item(item)\n",
        "        return r['description']"
      ],
      "execution_count": 0,
      "outputs": []
    },
    {
      "cell_type": "code",
      "metadata": {
        "id": "NRqwtO7CZYz8",
        "colab_type": "code",
        "outputId": "5c4f7cc7-2918-47f5-d90e-23cbe0fd4b16",
        "colab": {
          "base_uri": "https://localhost:8080/",
          "height": 34
        }
      },
      "source": [
        "query_wikidata('obama', 'wife')"
      ],
      "execution_count": 0,
      "outputs": [
        {
          "output_type": "execute_result",
          "data": {
            "text/plain": [
              "'Michelle Obama'"
            ]
          },
          "metadata": {
            "tags": []
          },
          "execution_count": 7
        }
      ]
    },
    {
      "cell_type": "code",
      "metadata": {
        "id": "gNdnJAaOb7mK",
        "colab_type": "code",
        "outputId": "09ce042a-8270-4a18-e600-83a10c222481",
        "colab": {
          "base_uri": "https://localhost:8080/",
          "height": 34
        }
      },
      "source": [
        "query_wikidata('milky way')"
      ],
      "execution_count": 0,
      "outputs": [
        {
          "output_type": "execute_result",
          "data": {
            "text/plain": [
              "'spiral galaxy in the Local Group containing the Solar System and the Earth'"
            ]
          },
          "metadata": {
            "tags": []
          },
          "execution_count": 5
        }
      ]
    },
    {
      "cell_type": "code",
      "metadata": {
        "id": "uMVSMslBhBC3",
        "colab_type": "code",
        "outputId": "33aa765f-0625-4513-a415-69c6f3ce760d",
        "colab": {
          "base_uri": "https://localhost:8080/",
          "height": 34
        }
      },
      "source": [
        "query_wikidata('india', 'prime minister')"
      ],
      "execution_count": 0,
      "outputs": [
        {
          "output_type": "execute_result",
          "data": {
            "text/plain": [
              "'Narendra Modi'"
            ]
          },
          "metadata": {
            "tags": []
          },
          "execution_count": 20
        }
      ]
    },
    {
      "cell_type": "code",
      "metadata": {
        "id": "xBdKYcPcVgAS",
        "colab_type": "code",
        "outputId": "74260843-ec81-4582-cbab-37987e728b4e",
        "colab": {
          "base_uri": "https://localhost:8080/",
          "height": 34
        }
      },
      "source": [
        "query_wikidata('ranveer singh', 'wife')"
      ],
      "execution_count": 0,
      "outputs": [
        {
          "output_type": "execute_result",
          "data": {
            "text/plain": [
              "'Deepika Padukone'"
            ]
          },
          "metadata": {
            "tags": []
          },
          "execution_count": 21
        }
      ]
    },
    {
      "cell_type": "code",
      "metadata": {
        "id": "DnQYwj8SVgCu",
        "colab_type": "code",
        "outputId": "4b092250-eccb-4e28-9364-f0017c52a56b",
        "colab": {
          "base_uri": "https://localhost:8080/",
          "height": 34
        }
      },
      "source": [
        "query_wikidata('gandhi', 'birth place')"
      ],
      "execution_count": 0,
      "outputs": [
        {
          "output_type": "execute_result",
          "data": {
            "text/plain": [
              "'Porbandar'"
            ]
          },
          "metadata": {
            "tags": []
          },
          "execution_count": 22
        }
      ]
    },
    {
      "cell_type": "code",
      "metadata": {
        "id": "zyrtmi1oVgFI",
        "colab_type": "code",
        "outputId": "a2b0c723-515d-4107-be3c-659f65f9ad6b",
        "colab": {
          "base_uri": "https://localhost:8080/",
          "height": 34
        }
      },
      "source": [
        "query_wikidata('gandhi', 'birth')"
      ],
      "execution_count": 0,
      "outputs": [
        {
          "output_type": "execute_result",
          "data": {
            "text/plain": [
              "'1869-10-02T00:00:00Z'"
            ]
          },
          "metadata": {
            "tags": []
          },
          "execution_count": 23
        }
      ]
    },
    {
      "cell_type": "code",
      "metadata": {
        "id": "tiWD_z_Bl5t6",
        "colab_type": "code",
        "outputId": "6f5396a3-466c-4c12-9224-41f767348694",
        "colab": {
          "base_uri": "https://localhost:8080/",
          "height": 34
        }
      },
      "source": [
        "query_wikidata('india', 'population')"
      ],
      "execution_count": 0,
      "outputs": [
        {
          "output_type": "execute_result",
          "data": {
            "text/plain": [
              "'1349217956'"
            ]
          },
          "metadata": {
            "tags": []
          },
          "execution_count": 25
        }
      ]
    },
    {
      "cell_type": "code",
      "metadata": {
        "id": "tqx8MroNmPDr",
        "colab_type": "code",
        "colab": {}
      },
      "source": [
        ""
      ],
      "execution_count": 0,
      "outputs": []
    },
    {
      "cell_type": "code",
      "metadata": {
        "id": "BdjZQILqcUmN",
        "colab_type": "code",
        "colab": {}
      },
      "source": [
        ""
      ],
      "execution_count": 0,
      "outputs": []
    },
    {
      "cell_type": "code",
      "metadata": {
        "id": "9K6gVORncVUn",
        "colab_type": "code",
        "colab": {}
      },
      "source": [
        ""
      ],
      "execution_count": 0,
      "outputs": []
    },
    {
      "cell_type": "code",
      "metadata": {
        "id": "nQDZT7SnQPbe",
        "colab_type": "code",
        "outputId": "4b2c78f9-36ec-41d6-e80f-8194aa9f057c",
        "colab": {
          "base_uri": "https://localhost:8080/",
          "height": 187
        }
      },
      "source": [
        "get_item('obama')"
      ],
      "execution_count": 0,
      "outputs": [
        {
          "output_type": "execute_result",
          "data": {
            "text/plain": [
              "{'aliases': ['Obama'],\n",
              " 'concepturi': 'http://www.wikidata.org/entity/Q76',\n",
              " 'description': '44th president of the United States',\n",
              " 'id': 'Q76',\n",
              " 'label': 'Barack Obama',\n",
              " 'match': {'language': 'en', 'text': 'Obama', 'type': 'alias'},\n",
              " 'pageid': 205,\n",
              " 'repository': '',\n",
              " 'title': 'Q76',\n",
              " 'url': '//www.wikidata.org/wiki/Q76'}"
            ]
          },
          "metadata": {
            "tags": []
          },
          "execution_count": 14
        }
      ]
    },
    {
      "cell_type": "code",
      "metadata": {
        "id": "JWEnra50a1bS",
        "colab_type": "code",
        "outputId": "e97b2d5f-e887-446e-9d5a-396b6aef4b7b",
        "colab": {
          "base_uri": "https://localhost:8080/",
          "height": 204
        }
      },
      "source": [
        "#https://www.wikidata.org/wiki/Wikidata:List_of_properties\n",
        "get_property('wife')"
      ],
      "execution_count": 0,
      "outputs": [
        {
          "output_type": "execute_result",
          "data": {
            "text/plain": [
              "{'aliases': ['wife'],\n",
              " 'concepturi': 'http://www.wikidata.org/entity/P26',\n",
              " 'datatype': 'wikibase-item',\n",
              " 'description': 'the subject has the object as their spouse (husband, wife, partner, etc.). Use \"partner\" (P451) for non-married companions',\n",
              " 'id': 'P26',\n",
              " 'label': 'spouse',\n",
              " 'match': {'language': 'en', 'text': 'wife', 'type': 'alias'},\n",
              " 'pageid': 3918155,\n",
              " 'repository': '',\n",
              " 'title': 'Property:P26',\n",
              " 'url': '//www.wikidata.org/wiki/Property:P26'}"
            ]
          },
          "metadata": {
            "tags": []
          },
          "execution_count": 79
        }
      ]
    },
    {
      "cell_type": "code",
      "metadata": {
        "id": "sxgCG3mlUYgz",
        "colab_type": "code",
        "outputId": "16bca8e4-e884-47ef-a03b-9ca8f4abf838",
        "colab": {
          "base_uri": "https://localhost:8080/",
          "height": 102
        }
      },
      "source": [
        "url = 'https://query.wikidata.org/sparql'\n",
        "  \n",
        "query = \"\"\"\n",
        "SELECT ?ans ?ansLabel\n",
        "WHERE \n",
        "{\n",
        "  #obama  #has birthday\n",
        "  wd:Q76  wdt:P569 ?ans.\n",
        "  SERVICE wikibase:label { bd:serviceParam wikibase:language\n",
        "  \"[AUTO_LANGUAGE],en\". }\n",
        "}\n",
        "\"\"\"\n",
        "r = requests.get(url, params = {'format': 'json', 'query': query})\n",
        "data = r.json()\n",
        "\n",
        "data"
      ],
      "execution_count": 0,
      "outputs": [
        {
          "output_type": "execute_result",
          "data": {
            "text/plain": [
              "{'head': {'vars': ['ans', 'ansLabel']},\n",
              " 'results': {'bindings': [{'ans': {'datatype': 'http://www.w3.org/2001/XMLSchema#dateTime',\n",
              "     'type': 'literal',\n",
              "     'value': '1961-08-04T00:00:00Z'},\n",
              "    'ansLabel': {'type': 'literal', 'value': '1961-08-04T00:00:00Z'}}]}}"
            ]
          },
          "metadata": {
            "tags": []
          },
          "execution_count": 168
        }
      ]
    }
  ]
}