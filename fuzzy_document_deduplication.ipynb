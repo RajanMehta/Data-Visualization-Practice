{
  "nbformat": 4,
  "nbformat_minor": 0,
  "metadata": {
    "colab": {
      "name": "fuzzy-document-deduplication.ipynb",
      "provenance": [],
      "collapsed_sections": [],
      "authorship_tag": "ABX9TyO0+9WLPeFwKuLl0WKfUFeu",
      "include_colab_link": true
    },
    "kernelspec": {
      "name": "python3",
      "display_name": "Python 3"
    }
  },
  "cells": [
    {
      "cell_type": "markdown",
      "metadata": {
        "id": "view-in-github",
        "colab_type": "text"
      },
      "source": [
        "<a href=\"https://colab.research.google.com/github/RajanMehta/nlp-pocs/blob/master/fuzzy_document_deduplication.ipynb\" target=\"_parent\"><img src=\"https://colab.research.google.com/assets/colab-badge.svg\" alt=\"Open In Colab\"/></a>"
      ]
    },
    {
      "cell_type": "code",
      "metadata": {
        "id": "mcg9RTgMkVMa",
        "colab_type": "code",
        "colab": {}
      },
      "source": [
        "from gensim.utils import simple_preprocess\n",
        "from gensim.models.phrases import Phrases, Phraser\n",
        "from gensim import corpora\n",
        "from gensim.similarities import Similarity"
      ],
      "execution_count": 0,
      "outputs": []
    },
    {
      "cell_type": "code",
      "metadata": {
        "id": "K9Ptw0k5kbDM",
        "colab_type": "code",
        "colab": {}
      },
      "source": [
        "documents = [\n",
        "    \"Used SpaceX rocket as-is, buyer must transport.\",\n",
        "    \"Used SpaceX rocket as-is, buyer must transport.\",\n",
        "    \"For sale: bulk 100lbs pack of spaghetti noodles\",\n",
        "    \"Spaghetti noodles for sale — 100lbs bulk pack\",\n",
        "    \"Pale blue tuxedo, used, good condition. Call 555–555–5555\",\n",
        "    \"Brand new yellow tuxedo in great condition!\"\n",
        "]"
      ],
      "execution_count": 0,
      "outputs": []
    },
    {
      "cell_type": "code",
      "metadata": {
        "id": "mvJjf07ckvlj",
        "colab_type": "code",
        "outputId": "2f5ded23-ceb9-4757-b164-bff30733f5a1",
        "colab": {
          "base_uri": "https://localhost:8080/",
          "height": 173
        }
      },
      "source": [
        "#Convert documents to collection of words\n",
        "texts = [[text for text in simple_preprocess(doc, deacc=True)] for doc in documents]\n",
        "\n",
        "#Build a bigram model to capture every pair of words in the texts\n",
        "bigram = Phrases(texts, min_count=1)\n",
        "bigram_phraser = Phraser(bigram)\n",
        "\n",
        "#Reconvert documents to collection of words/bigrams\n",
        "texts_bigrams = [[text for text in bigram_phraser[ simple_preprocess(doc, deacc=True)]] for doc in documents]\n",
        "\n",
        "#Create dictionary\n",
        "dictionary = corpora.Dictionary(texts_bigrams)\n",
        "\n",
        "#Create corpus\n",
        "corpus = [dictionary.doc2bow(docString) for docString in texts_bigrams]\n",
        "\n",
        "#Build similarity index\n",
        "index = Similarity(corpus=corpus,\n",
        "                   num_features=len(dictionary),\n",
        "                   output_prefix='on_disk_output')\n",
        "\n",
        "#Parse similarities from index\n",
        "doc_id = 0\n",
        "similar_docs = {}\n",
        "for similarities in index:\n",
        "    similar_docs[doc_id] = list(enumerate(similarities))\n",
        "    doc_id += 1"
      ],
      "execution_count": 3,
      "outputs": [
        {
          "output_type": "stream",
          "text": [
            "/usr/local/lib/python3.6/dist-packages/gensim/matutils.py:718: FutureWarning: Conversion of the second argument of issubdtype from `int` to `np.signedinteger` is deprecated. In future, it will be treated as `np.int64 == np.dtype(int).type`.\n",
            "  if np.issubdtype(vec.dtype, np.int):\n",
            "/usr/local/lib/python3.6/dist-packages/gensim/matutils.py:737: FutureWarning: Conversion of the second argument of issubdtype from `int` to `np.signedinteger` is deprecated. In future, it will be treated as `np.int64 == np.dtype(int).type`.\n",
            "  if np.issubdtype(vec.dtype, np.int):\n",
            "/usr/local/lib/python3.6/dist-packages/smart_open/smart_open_lib.py:253: UserWarning: This function is deprecated, use smart_open.open instead. See the migration notes for details: https://github.com/RaRe-Technologies/smart_open/blob/master/README.rst#migrating-to-the-new-open-function\n",
            "  'See the migration notes for details: %s' % _MIGRATION_NOTES_URL\n",
            "/usr/local/lib/python3.6/dist-packages/gensim/similarities/docsim.py:518: FutureWarning: arrays to stack must be passed as a \"sequence\" type such as list or tuple. Support for non-sequence iterables such as generators is deprecated as of NumPy 1.16 and will raise an error in the future.\n",
            "  result = numpy.hstack(shard_results)\n"
          ],
          "name": "stderr"
        }
      ]
    },
    {
      "cell_type": "code",
      "metadata": {
        "id": "MT5OwNqtlrQi",
        "colab_type": "code",
        "outputId": "df466039-a629-4dd9-cf3b-96a91e61f300",
        "colab": {
          "base_uri": "https://localhost:8080/",
          "height": 289
        }
      },
      "source": [
        "sim_threshold = 0.9\n",
        "\n",
        "for doc_id, sim_doc_tuples in similar_docs.items():\n",
        "  for sim_doc_tuple in sim_doc_tuples:\n",
        "    sim_doc_id = sim_doc_tuple[0]\n",
        "    sim_score = sim_doc_tuple[1]\n",
        "    if (sim_score > sim_threshold) and (doc_id != sim_doc_id):\n",
        "      print(f\"Found similar documents, score of {sim_score:.2f}:\")\n",
        "      print('\\t', documents[doc_id])\n",
        "      print('\\t', documents[sim_doc_id], '\\n')"
      ],
      "execution_count": 4,
      "outputs": [
        {
          "output_type": "stream",
          "text": [
            "Found similar documents, score of 1.00:\n",
            "\t Used SpaceX rocket as-is, buyer must transport.\n",
            "\t Used SpaceX rocket as-is, buyer must transport. \n",
            "\n",
            "Found similar documents, score of 1.00:\n",
            "\t Used SpaceX rocket as-is, buyer must transport.\n",
            "\t Used SpaceX rocket as-is, buyer must transport. \n",
            "\n",
            "Found similar documents, score of 0.91:\n",
            "\t For sale: bulk 100lbs pack of spaghetti noodles\n",
            "\t Spaghetti noodles for sale — 100lbs bulk pack \n",
            "\n",
            "Found similar documents, score of 0.91:\n",
            "\t Spaghetti noodles for sale — 100lbs bulk pack\n",
            "\t For sale: bulk 100lbs pack of spaghetti noodles \n",
            "\n"
          ],
          "name": "stdout"
        }
      ]
    }
  ]
}