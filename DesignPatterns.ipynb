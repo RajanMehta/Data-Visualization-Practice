{
  "nbformat": 4,
  "nbformat_minor": 0,
  "metadata": {
    "colab": {
      "name": "DesignPatterns.ipynb",
      "version": "0.3.2",
      "provenance": [],
      "collapsed_sections": [],
      "include_colab_link": true
    },
    "kernelspec": {
      "name": "python3",
      "display_name": "Python 3"
    }
  },
  "cells": [
    {
      "cell_type": "markdown",
      "metadata": {
        "id": "view-in-github",
        "colab_type": "text"
      },
      "source": [
        "<a href=\"https://colab.research.google.com/github/RajanMehta/practice-libraries/blob/master/DesignPatterns.ipynb\" target=\"_parent\"><img src=\"https://colab.research.google.com/assets/colab-badge.svg\" alt=\"Open In Colab\"/></a>"
      ]
    },
    {
      "cell_type": "markdown",
      "metadata": {
        "id": "NF1OoO2gDgxU",
        "colab_type": "text"
      },
      "source": [
        "# Creational Patterns"
      ]
    },
    {
      "cell_type": "markdown",
      "metadata": {
        "id": "ISAnyFPsbFTW",
        "colab_type": "text"
      },
      "source": [
        "## Factory"
      ]
    },
    {
      "cell_type": "code",
      "metadata": {
        "id": "nBuni-kraPmf",
        "colab_type": "code",
        "colab": {
          "base_uri": "https://localhost:8080/",
          "height": 52
        },
        "outputId": "6a9459d8-b3cd-4f74-9332-e51cecb74bc5"
      },
      "source": [
        "# Factory is an object specialized in creating other objects. Used when you're not sure what kind of objects you'll be needing eventually. Or, the situation in which your app needs to \n",
        "# decide what class to use at runtime.\n",
        "\n",
        "# scenario: your pet shop only sold dogs. Now, you want to sell cats too.\n",
        "\n",
        "class Dog:\n",
        "\n",
        "\t\"\"\"A simple dog class\"\"\"\n",
        "\n",
        "\tdef __init__(self, name):\n",
        "\t\tself._name = name\n",
        "\n",
        "\tdef speak(self):\n",
        "\t\treturn \"Woof!\"\n",
        "  \n",
        "\n",
        "class Cat:\n",
        "\n",
        "\t\"\"\"A simple dog class\"\"\"\n",
        "\n",
        "\tdef __init__(self, name):\n",
        "\t\tself._name = name\n",
        "\n",
        "\tdef speak(self):\n",
        "\t\treturn \"Meow!\"\n",
        "  \n",
        "\n",
        "def get_pet(pet=\"dog\"):\n",
        "\n",
        "\t\"\"\"The factory method\"\"\"\n",
        "\n",
        "\tpets = dict(dog=Dog(\"Hope\"), cat=Cat(\"Peace\"))\n",
        "\n",
        "\treturn pets[pet]\n",
        "\n",
        "\n",
        "d = get_pet(\"dog\")\n",
        "\n",
        "print(d.speak())\n",
        "\n",
        "c = get_pet(\"cat\")\n",
        "\n",
        "print(c.speak())"
      ],
      "execution_count": 8,
      "outputs": [
        {
          "output_type": "stream",
          "text": [
            "Woof!\n",
            "Meow!\n"
          ],
          "name": "stdout"
        }
      ]
    },
    {
      "cell_type": "markdown",
      "metadata": {
        "id": "VUZae-HqfM5b",
        "colab_type": "text"
      },
      "source": [
        "## Abstract Factory"
      ]
    },
    {
      "cell_type": "code",
      "metadata": {
        "id": "SFyi-wELfPLg",
        "colab_type": "code",
        "colab": {
          "base_uri": "https://localhost:8080/",
          "height": 70
        },
        "outputId": "77ff7db2-8135-4593-8898-4ab28af4573b"
      },
      "source": [
        "# when client expects to receive a family of objects at given time but don't have to know which family it is until runtime\n",
        "\n",
        "# scenario:\n",
        "# Abstract Factory: Pet Factory\n",
        "# Concrete Factory: Dog Factory, Cat Factory\n",
        "\n",
        "class Dog:\n",
        "\t\"\"\"One of the objects to be returned\"\"\"\n",
        "\n",
        "\tdef speak(self):\n",
        "\t\treturn \"Woof!\"\n",
        "\n",
        "\tdef __str__(self):\n",
        "\t\treturn \"Dog\"\n",
        "\n",
        "\n",
        "class DogFactory:\n",
        "\t\"\"\"Concrete Factory\"\"\"\n",
        "\n",
        "\tdef get_pet(self):\n",
        "\t\t\"\"\"Returns a Dog object\"\"\"\n",
        "\t\treturn Dog()\n",
        "\n",
        "\tdef get_food(self):\n",
        "\t\t\"\"\"Returns a Dog Food object\"\"\"\n",
        "\t\treturn \"Dog Food\"\n",
        "\n",
        "\n",
        "class PetStore:\n",
        "\t\"\"\" PetStore houses our Abstract Factory \"\"\"\n",
        "\n",
        "\tdef __init__(self, pet_factory=None):\n",
        "\t\t\"\"\" pet_factory is our Abstract Factory \"\"\"\n",
        "\n",
        "\t\tself._pet_factory = pet_factory\n",
        "\n",
        "\n",
        "\tdef show_pet(self):\n",
        "\t\t\"\"\" Utility method to display the details of the objects retured by the DogFactory \"\"\"\n",
        "\n",
        "\t\tpet = self._pet_factory.get_pet()\n",
        "\t\tpet_food = self._pet_factory.get_food()\n",
        "\n",
        "\t\tprint(\"Our pet is '{}'!\".format(pet))\n",
        "\t\tprint(\"Our pet says hello by '{}'\".format(pet.speak()))\n",
        "\t\tprint(\"Its food is '{}'!\".format(pet_food))\n",
        "\n",
        "\n",
        "#Create a Concrete Factory\n",
        "factory = DogFactory()\n",
        "\n",
        "#Create a pet store housing our Abstract Factory\n",
        "shop = PetStore(factory)\n",
        "\n",
        "#Invoke the utility method to show the details of our pet\n",
        "shop.show_pet()"
      ],
      "execution_count": 3,
      "outputs": [
        {
          "output_type": "stream",
          "text": [
            "Our pet is 'Dog'!\n",
            "Our pet says hello by 'Woof!'\n",
            "Its food is 'Dog Food'!\n"
          ],
          "name": "stdout"
        }
      ]
    },
    {
      "cell_type": "markdown",
      "metadata": {
        "id": "tp_WzXCaiUB0",
        "colab_type": "text"
      },
      "source": [
        "## Singleton"
      ]
    },
    {
      "cell_type": "code",
      "metadata": {
        "id": "g1Y9KxmdiWEN",
        "colab_type": "code",
        "colab": {
          "base_uri": "https://localhost:8080/",
          "height": 52
        },
        "outputId": "26068e28-9396-412d-9804-24aafd359a8d"
      },
      "source": [
        "# When you want only one object to be instantiated from a Class. Basically, it's an object oriented way of creating global variable\n",
        "\n",
        "# scenario: An information cache shared by multiple objects\n",
        "\n",
        "class Borg:\n",
        "    \"\"\"Borg pattern making the class attributes global\"\"\"\n",
        "    _shared_data = {} # Attribute dictionary\n",
        "\n",
        "    def __init__(self):\n",
        "        self.__dict__ = self._shared_data # Make it an attribute dictionary\n",
        "\n",
        "        \n",
        "class Singleton(Borg): #Inherits from the Borg class\n",
        "    \"\"\"This class now shares all its attributes among its various instances\"\"\"\n",
        "    #This essenstially makes the singleton objects an object-oriented global variable\n",
        "\n",
        "    def __init__(self, **kwargs):\n",
        "        Borg.__init__(self)\n",
        "        self._shared_data.update(kwargs) # Update the attribute dictionary by inserting a new key-value pair \n",
        "\n",
        "    def __str__(self):\n",
        "        return str(self._shared_data) # Returns the attribute dictionary for printing\n",
        "\n",
        "#Let's create a singleton object and add our first acronym\n",
        "x = Singleton(HTTP=\"Hyper Text Transfer Protocol\")\n",
        "# Print the object\n",
        "print(x) \n",
        "\n",
        "#Let's create another singleton object and if it refers to the same attribute dictionary by adding another acronym.\n",
        "y = Singleton(SNMP=\"Simple Network Management Protocol\")\n",
        "# Print the object\n",
        "print(y)"
      ],
      "execution_count": 9,
      "outputs": [
        {
          "output_type": "stream",
          "text": [
            "{'HTTP': 'Hyper Text Transfer Protocol'}\n",
            "{'HTTP': 'Hyper Text Transfer Protocol', 'SNMP': 'Simple Network Management Protocol'}\n"
          ],
          "name": "stdout"
        }
      ]
    },
    {
      "cell_type": "markdown",
      "metadata": {
        "id": "djNp9dS4CpFC",
        "colab_type": "text"
      },
      "source": [
        "## Prototype"
      ]
    },
    {
      "cell_type": "code",
      "metadata": {
        "id": "bKBat8cKCqpR",
        "colab_type": "code",
        "colab": {
          "base_uri": "https://localhost:8080/",
          "height": 34
        },
        "outputId": "01f24118-ee49-4d66-8326-c17cc333f92b"
      },
      "source": [
        "# Creating many (almost)identical objects individually is expensive\n",
        "# Alternative: Cloning. Create a prototypical solution first and clone it whenever you need a replica\n",
        "\n",
        "import copy\n",
        "\n",
        "class Prototype:\n",
        "    \n",
        "    def __init__(self):\n",
        "        self._objects = {}\n",
        "        \n",
        "    def register_object(self, name, obj):\n",
        "        \"\"\"Register an object\"\"\"\n",
        "        self._objects[name] = obj\n",
        "        \n",
        "    def unregister_object(self, name):\n",
        "        \"\"\"Unregister an object\"\"\"\n",
        "        del self._objects[name]\n",
        "        \n",
        "    def clone(self, name, **attr):\n",
        "        \"\"\"Clone a registered object and update its attributes\"\"\"\n",
        "        obj = copy.deepcopy(self._objects.get(name))\n",
        "        obj.__dict__.update(attr)\n",
        "        return obj\n",
        "        \n",
        "class Car:\n",
        "    def __init__(self):\n",
        "        self.name = \"Skylark\"\n",
        "        self.color = \"Red\"\n",
        "        self.options = \"Ex\"\n",
        "        \n",
        "    def __str__(self):\n",
        "        return '{} | {} | {}'.format(self.name, self.color, self.options)\n",
        "        \n",
        "c = Car()\n",
        "prototype = Prototype()\n",
        "prototype.register_object('skylark',c)\n",
        "\n",
        "c1 = prototype.clone('skylark')\n",
        "\n",
        "print(c1)"
      ],
      "execution_count": 14,
      "outputs": [
        {
          "output_type": "stream",
          "text": [
            "Skylark | Red | Ex\n"
          ],
          "name": "stdout"
        }
      ]
    },
    {
      "cell_type": "markdown",
      "metadata": {
        "id": "QNi47dkfDmha",
        "colab_type": "text"
      },
      "source": [
        "# Structural Patterns"
      ]
    },
    {
      "cell_type": "markdown",
      "metadata": {
        "id": "Q-f4_96RDqZ2",
        "colab_type": "text"
      },
      "source": [
        "## Decorator"
      ]
    },
    {
      "cell_type": "code",
      "metadata": {
        "id": "0bykVX1ZDtnA",
        "colab_type": "code",
        "colab": {
          "base_uri": "https://localhost:8080/",
          "height": 70
        },
        "outputId": "83fa71a2-64b0-42fd-ec62-5a7d0ff555e1"
      },
      "source": [
        "from functools import wraps\n",
        "\n",
        "def make_blink(function):\n",
        "\t\"\"\"Defines the decorator\"\"\"\n",
        "\n",
        "\t#This makes the decorator transparent in terms of its name and docstring\n",
        "\t@wraps(function)\n",
        "\n",
        "\t#Define the inner function\n",
        "\tdef decorator():\n",
        "\t\t#Grab the return value of the function being decorated\n",
        "\t\tret = function() \n",
        "\n",
        "\t\t#Add new functionality to the function being decorated\n",
        "\t\treturn \"<blink>\" + ret + \"</blink>\"\n",
        "\n",
        "\treturn decorator\n",
        "\n",
        "#Apply the decorator here!\n",
        "@make_blink\n",
        "def hello_world():\n",
        "\t\"\"\"Original function! \"\"\"\n",
        "\n",
        "\treturn \"Hello, World!\"\n",
        "\n",
        "#Check the result of decorating\n",
        "print(hello_world())\n",
        "\n",
        "#Check if the function name is still the same name of the function being decorated\n",
        "print(hello_world.__name__)\n",
        "\n",
        "#Check if the docstring is still the same as that of the function being decorated\n",
        "print(hello_world.__doc__)"
      ],
      "execution_count": 17,
      "outputs": [
        {
          "output_type": "stream",
          "text": [
            "<blink>Hello, World!</blink>\n",
            "hello_world\n",
            "Original function! \n"
          ],
          "name": "stdout"
        }
      ]
    },
    {
      "cell_type": "markdown",
      "metadata": {
        "id": "ViCY4BvXwrrd",
        "colab_type": "text"
      },
      "source": [
        "## Proxy"
      ]
    },
    {
      "cell_type": "code",
      "metadata": {
        "id": "0cXg4dXVwr68",
        "colab_type": "code",
        "colab": {
          "base_uri": "https://localhost:8080/",
          "height": 87
        },
        "outputId": "42c7c898-ad31-4198-b554-cc87ef94acac"
      },
      "source": [
        "# postpone object creation unless absolutely necessary. use a placeholder (proxy)\n",
        "\n",
        "\n",
        "import time\n",
        "\n",
        "class Producer:\n",
        "\t\"\"\"Define the 'resource-intensive' object to instantiate!\"\"\"\n",
        "\tdef produce(self):\n",
        "\t\tprint(\"Producer is working hard!\")\n",
        "\n",
        "\tdef meet(self):\n",
        "\t\tprint(\"Producer has time to meet you now!\")\n",
        "\n",
        "class Proxy:\n",
        "\t\"\"\"\"Define the 'relatively less resource-intensive' proxy to instantiate as a middleman\"\"\"\n",
        "\tdef __init__(self):  \n",
        "\t\tself.occupied = 'No'\n",
        "\t\tself.producer = None\n",
        "\n",
        "\tdef produce(self):\n",
        "\t\t\"\"\"Check if Producer is available\"\"\"\n",
        "\t\tprint(\"Artist checking if Producer is available ...\")\n",
        "\n",
        "\t\tif self.occupied == 'No':\n",
        "\t\t\t#If the producer is available, create a producer object!\n",
        "\t\t\tself.producer = Producer()\n",
        "\t\t\ttime.sleep(2)\n",
        "\n",
        "\t\t\t#Make the prodcuer meet the guest!\n",
        "\t\t\tself.producer.meet()\n",
        "\t\t\t\n",
        "\t\telse:\n",
        "\t\t\t#Otherwise, don't instantiate a producer \n",
        "\t\t\ttime.sleep(2)\n",
        "\t\t\tprint(\"Producer is busy!\")\n",
        "\n",
        "#Instantiate a Proxy\n",
        "p = Proxy()\n",
        "\n",
        "#Make the proxy: Artist produce until Producer is available\n",
        "p.produce()\n",
        "\n",
        "#Change the state to 'occupied'\n",
        "p.occupied = 'Yes'\n",
        "\n",
        "#Make the Producer produce\n",
        "p.produce()"
      ],
      "execution_count": 18,
      "outputs": [
        {
          "output_type": "stream",
          "text": [
            "Artist checking if Producer is available ...\n",
            "Producer has time to meet you now!\n",
            "Artist checking if Producer is available ...\n",
            "Producer is busy!\n"
          ],
          "name": "stdout"
        }
      ]
    },
    {
      "cell_type": "markdown",
      "metadata": {
        "id": "-Cc42KYY4YAm",
        "colab_type": "text"
      },
      "source": [
        "## Adapter"
      ]
    },
    {
      "cell_type": "code",
      "metadata": {
        "id": "DSt0HV3A4Z12",
        "colab_type": "code",
        "colab": {
          "base_uri": "https://localhost:8080/",
          "height": 87
        },
        "outputId": "8386c6f6-bf6f-4dce-eb5f-25e8fa89d959"
      },
      "source": [
        "# Problem: incompatible interfaces\n",
        "\n",
        "# scenario:\n",
        "# Korean: speak_korean()\n",
        "# British: speak_english()\n",
        "# we want a common interface: speak()\n",
        "\n",
        "class Korean:\n",
        "\t\"\"\"Korean speaker\"\"\"\n",
        "\tdef __init__(self):\n",
        "\t\tself.name = \"Korean\"\n",
        "\n",
        "\tdef speak_korean(self):\n",
        "\t\treturn \"An-neyong?\"\n",
        "\n",
        "class British:\n",
        "\t\"\"\"English speaker\"\"\"\n",
        "\tdef __init__(self):\n",
        "\t\tself.name = \"British\"\t\n",
        "\n",
        "\t#Note the different method name here!\n",
        "\tdef speak_english(self):\n",
        "\t\treturn \"Hello!\"\t\n",
        "\n",
        "class Adapter:\n",
        "\t\"\"\"This changes the generic method name to individualized method names\"\"\"\n",
        "\n",
        "\tdef __init__(self, object, **adapted_method):\n",
        "\t\t\"\"\"Change the name of the method\"\"\"\n",
        "\t\tself._object = object\n",
        "\n",
        "\t\t#Add a new dictionary item that establishes the mapping between the generic method name: speak() and the concrete method\n",
        "\t\t#For example, speak() will be translated to speak_korean() if the mapping says so\n",
        "\t\tself.__dict__.update(adapted_method)\n",
        "\n",
        "\tdef __getattr__(self, attr):\n",
        "\t\t\"\"\"Simply return the rest of attributes!\"\"\"\n",
        "\t\treturn getattr(self._object, attr)\n",
        "\t\t\n",
        "#List to store speaker objects\n",
        "objects = []\n",
        "\n",
        "#Create a Korean object\n",
        "korean = Korean()\n",
        "\n",
        "#Create a British object\n",
        "british =British()\n",
        "\n",
        "#Append the objects to the objects list\n",
        "objects.append(Adapter(korean, speak=korean.speak_korean))\n",
        "objects.append(Adapter(british, speak=british.speak_english))\n",
        "\n",
        "\n",
        "for obj in objects:\n",
        "\tprint(\"{} says '{}'\\n\".format(obj.name, obj.speak()))"
      ],
      "execution_count": 19,
      "outputs": [
        {
          "output_type": "stream",
          "text": [
            "Korean says 'An-neyong?'\n",
            "\n",
            "British says 'Hello!'\n",
            "\n"
          ],
          "name": "stdout"
        }
      ]
    }
  ]
}