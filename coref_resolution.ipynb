{
  "nbformat": 4,
  "nbformat_minor": 0,
  "metadata": {
    "colab": {
      "name": "coref_resolution.ipynb",
      "provenance": [],
      "collapsed_sections": [],
      "authorship_tag": "ABX9TyOlPryatqFTfKwaP+QAY+vm",
      "include_colab_link": true
    },
    "kernelspec": {
      "name": "python3",
      "display_name": "Python 3"
    }
  },
  "cells": [
    {
      "cell_type": "markdown",
      "metadata": {
        "id": "view-in-github",
        "colab_type": "text"
      },
      "source": [
        "<a href=\"https://colab.research.google.com/github/RajanMehta/mini-projects/blob/master/coref_resolution.ipynb\" target=\"_parent\"><img src=\"https://colab.research.google.com/assets/colab-badge.svg\" alt=\"Open In Colab\"/></a>"
      ]
    },
    {
      "cell_type": "code",
      "metadata": {
        "id": "a0p8TIpF4NZX",
        "colab_type": "code",
        "colab": {}
      },
      "source": [
        "!pip install neuralcoref\n",
        "!pip install spacy==2.1.0\n",
        "!python3 -m spacy download en"
      ],
      "execution_count": 0,
      "outputs": []
    },
    {
      "cell_type": "code",
      "metadata": {
        "id": "VgpquY624wSI",
        "colab_type": "code",
        "colab": {
          "base_uri": "https://localhost:8080/",
          "height": 139
        },
        "outputId": "67badd14-468d-4f49-dfc3-3beeb3ff8a3e"
      },
      "source": [
        "import re\n",
        "import spacy\n",
        "import neuralcoref\n",
        "from nltk.tokenize import sent_tokenize\n",
        "\n",
        "nlp = spacy.load('en')\n",
        "\n",
        "# Add neural coref to SpaCy's pipe\n",
        "neuralcoref.add_to_pipe(nlp,greedyness=0.5,max_dist=50,blacklist=False)\n",
        "\n",
        "text = \"Scientists know many things about the Sun. They know how old it is. \\\n",
        "The Sun is more than 4½ billion years old. It is also a star that is the centre of our solar system. \\\n",
        "They also know the Sun’s size.\"\n",
        "\n",
        "doc = nlp(text)\n",
        "clusters = doc._.coref_clusters\n",
        "print(\"clusters: \\n\",clusters)\n",
        "print (\"\\n\")\n",
        "\n",
        "resolved_coref = doc._.coref_resolved\n",
        "print (\"Resolved by NeuralCoref: \\n\", resolved_coref) # the pronoun resolved neural co-reference text is very noisy."
      ],
      "execution_count": 3,
      "outputs": [
        {
          "output_type": "stream",
          "text": [
            "clusters: \n",
            " [Scientists: [Scientists, They, They], the Sun: [the Sun, The Sun, Sun, It]]\n",
            "\n",
            "\n",
            "Resolved by NeuralCoref: \n",
            " Scientists know many things about the Sun. Scientists know how old it is. the Sun the Sun is more than 4½ billion years old. the Sun is also a star that is the centre of our solar system. Scientists also know the Sun’s size.\n"
          ],
          "name": "stdout"
        }
      ]
    },
    {
      "cell_type": "code",
      "metadata": {
        "id": "PbMkU8UN7XEH",
        "colab_type": "code",
        "colab": {}
      },
      "source": [
        "# custom pronoun resolution \n",
        "\n",
        "pronoun_list=['he','she','it','they','them','him','her','his','hers','its','we','us']\n",
        "\n",
        "def get_sentence_for_index(index, resolved_list):\n",
        "    \"\"\"\n",
        "    Example Input:\n",
        "      index: 8\n",
        "      resolved_list = ['Scientists ', 'know ', 'many ', 'things ', 'about ', 'the ', 'Sun', '. ', \n",
        "        'They ', 'know ', 'how ', 'old ', 'it ', 'is', '. ', \n",
        "        'The ', 'Sun ', 'is ', 'more ', 'than ', '4½ ', 'billion ', 'years ', 'old', '. ', \n",
        "        'It ', 'is ', 'also ', 'a ', 'star', '. ', \n",
        "        'They ', 'also ', 'know ', 'the ', 'Sun', '’s ', 'size', '.']\n",
        "    Expected Output: ['They ', 'know ', 'how ', 'old ', 'it ', 'is', '. ']\n",
        "    \"\"\"\n",
        "    end_of_sentence_punctuation = ['.','!','?']\n",
        "    beginning_index = index\n",
        "    ending_index = index\n",
        "    while (beginning_index>=0):\n",
        "        val = resolved_list[beginning_index].strip()\n",
        "        if (val in end_of_sentence_punctuation):\n",
        "            break\n",
        "        else:\n",
        "            beginning_index = beginning_index -1\n",
        "    while (ending_index<=(len(resolved_list)-1)):\n",
        "        val = resolved_list[ending_index].strip()\n",
        "        if (val in end_of_sentence_punctuation):\n",
        "            break\n",
        "        else:\n",
        "            ending_index = ending_index +1\n",
        "    return resolved_list[beginning_index+1:ending_index+1],beginning_index+1\n",
        "\n",
        "\n",
        "def get_resolved(doc, clusters):\n",
        "    \"\"\"\n",
        "    Return a list of utterrances text where the coref are resolved to the most representative mention\n",
        "    \"\"\"\n",
        "    resolved = list(tok.text_with_ws for tok in doc)\n",
        "    questions =[]\n",
        "    for cluster in clusters:\n",
        "        for coref in cluster:\n",
        "            coref_text = coref.text.lower()\n",
        "            cluster_main_text = cluster.main.text.lower()\n",
        "            if len(coref_text.split())==1 and coref_text != cluster_main_text and coref_text in pronoun_list:\n",
        "                get_sentence,start_index = get_sentence_for_index(coref.start,resolved)\n",
        "                get_sentence_string = ''.join(get_sentence).lower()\n",
        "                cluster_main_string = ' '.join(cluster_main_text.strip().split())\n",
        "                if (cluster_main_string not in get_sentence_string):\n",
        "                    resolved[coref.start] = cluster.main.text + doc[coref.end-1].whitespace_\n",
        "                    if start_index == coref.start:\n",
        "                        resolved[coref.start] = resolved[coref.start].capitalize() \n",
        "                    final_sentence = ''.join(get_sentence)\n",
        "                    # Leave out very short sentences to frame questions.\n",
        "                    if len(final_sentence)>20:\n",
        "                        questions.append([final_sentence,coref.text,resolved[coref.start]])\n",
        "\n",
        "    return ''.join(resolved),questions"
      ],
      "execution_count": 0,
      "outputs": []
    },
    {
      "cell_type": "code",
      "metadata": {
        "id": "MkYZ2Uw182xw",
        "colab_type": "code",
        "colab": {
          "base_uri": "https://localhost:8080/",
          "height": 88
        },
        "outputId": "56d3733c-e530-43c2-826e-dcf902f03365"
      },
      "source": [
        "resolved, questions = get_resolved (doc, clusters)\n",
        "print (\"Custom resolved: \\n\")\n",
        "print (resolved)"
      ],
      "execution_count": 13,
      "outputs": [
        {
          "output_type": "stream",
          "text": [
            "Custom resolved: \n",
            "\n",
            "Scientists know many things about the Sun. Scientists know how old it is. The Sun is more than 4½ billion years old. The sun is also a star that is the centre of our solar system. Scientists also know the Sun’s size.\n"
          ],
          "name": "stdout"
        }
      ]
    },
    {
      "cell_type": "code",
      "metadata": {
        "id": "f3xuEvd-9X-i",
        "colab_type": "code",
        "colab": {
          "base_uri": "https://localhost:8080/",
          "height": 221
        },
        "outputId": "6c184171-1619-44aa-875c-0d22ce17446e"
      },
      "source": [
        "print (\"Questions generated :\")\n",
        "print (\"[Note: There might be a few answer errors because of the errors in the coreference algorithm itself] \\n\")\n",
        "\n",
        "for index,question in enumerate(questions):\n",
        "    print ('%d) What does \\\"%s\\\" refer to in the sentence - \\\"%s\\\"?'%(index+1,question[1],question[0].strip()))\n",
        "    print (\"Ans : %s\\n\"%(question[2]))"
      ],
      "execution_count": 7,
      "outputs": [
        {
          "output_type": "stream",
          "text": [
            "Questions generated :\n",
            "[Note: There might be a few answer errors because of the errors in the coreference algorithm itself] \n",
            "\n",
            "1) What does \"They\" refer to in the sentence - \"They know how old it is.\"?\n",
            "Ans : Scientists \n",
            "\n",
            "2) What does \"They\" refer to in the sentence - \"They also know the Sun’s size.\"?\n",
            "Ans : Scientists \n",
            "\n",
            "3) What does \"It\" refer to in the sentence - \"It is also a star that is the centre of our solar system.\"?\n",
            "Ans : The sun \n",
            "\n"
          ],
          "name": "stdout"
        }
      ]
    }
  ]
}