{
  "nbformat": 4,
  "nbformat_minor": 0,
  "metadata": {
    "colab": {
      "name": "truecasing-location.ipynb",
      "provenance": [],
      "collapsed_sections": [],
      "include_colab_link": true
    },
    "kernelspec": {
      "name": "python3",
      "display_name": "Python 3"
    }
  },
  "cells": [
    {
      "cell_type": "markdown",
      "metadata": {
        "id": "view-in-github",
        "colab_type": "text"
      },
      "source": [
        "<a href=\"https://colab.research.google.com/github/RajanMehta/nlp-pocs/blob/master/truecasing_location.ipynb\" target=\"_parent\"><img src=\"https://colab.research.google.com/assets/colab-badge.svg\" alt=\"Open In Colab\"/></a>"
      ]
    },
    {
      "cell_type": "code",
      "metadata": {
        "colab_type": "code",
        "id": "mX-_0dgblZOz",
        "colab": {}
      },
      "source": [
        "nltk.downloader.download('maxent_ne_chunker')\n",
        "nltk.downloader.download('words')\n",
        "nltk.downloader.download('treebank')\n",
        "nltk.downloader.download('maxent_treebank_pos_tagger')\n",
        "nltk.download('averaged_perceptron_tagger')\n",
        "nltk.downloader.download('punkt')"
      ],
      "execution_count": 0,
      "outputs": []
    },
    {
      "cell_type": "code",
      "metadata": {
        "colab_type": "code",
        "id": "tiFTTeNzlVtn",
        "colab": {}
      },
      "source": [
        "!pip install geograpy3"
      ],
      "execution_count": 0,
      "outputs": []
    },
    {
      "cell_type": "code",
      "metadata": {
        "id": "82dtjV5mXfte",
        "colab_type": "code",
        "colab": {}
      },
      "source": [
        ""
      ],
      "execution_count": 0,
      "outputs": []
    },
    {
      "cell_type": "code",
      "metadata": {
        "id": "b1AykA2EXfvw",
        "colab_type": "code",
        "colab": {}
      },
      "source": [
        ""
      ],
      "execution_count": 0,
      "outputs": []
    },
    {
      "cell_type": "code",
      "metadata": {
        "colab_type": "code",
        "id": "WdmVm7HrlZxK",
        "colab": {}
      },
      "source": [
        "import geograpy"
      ],
      "execution_count": 0,
      "outputs": []
    },
    {
      "cell_type": "code",
      "metadata": {
        "colab_type": "code",
        "outputId": "a5d1aa9c-fdf7-498f-8783-8b99b6896b8f",
        "id": "52uZ4yUUlaRP",
        "colab": {
          "base_uri": "https://localhost:8080/",
          "height": 34
        }
      },
      "source": [
        "from geograpy import extraction\n",
        "\n",
        "e = extraction.Extractor(text='Port Arthur considers banning sidewalk delivery robots')\n",
        "e.find_entities()\n",
        "\n",
        "# You can now access all of the places found by the Extractor\n",
        "print(e.places)"
      ],
      "execution_count": 0,
      "outputs": [
        {
          "output_type": "stream",
          "text": [
            "['Port', 'Arthur']\n"
          ],
          "name": "stdout"
        }
      ]
    },
    {
      "cell_type": "markdown",
      "metadata": {
        "id": "dYLARGrpTH-P",
        "colab_type": "text"
      },
      "source": [
        "### true-casing"
      ]
    },
    {
      "cell_type": "code",
      "metadata": {
        "id": "tutyg8p96bat",
        "colab_type": "code",
        "colab": {}
      },
      "source": [
        "!pip install truecase"
      ],
      "execution_count": 0,
      "outputs": []
    },
    {
      "cell_type": "code",
      "metadata": {
        "id": "Qqmi5pJ46dqu",
        "colab_type": "code",
        "outputId": "4b23043d-a587-4a90-cae2-43147367f4b8",
        "colab": {
          "base_uri": "https://localhost:8080/",
          "height": 68
        }
      },
      "source": [
        "import truecase\n",
        "import nltk\n",
        "nltk.download('punkt')"
      ],
      "execution_count": 0,
      "outputs": [
        {
          "output_type": "stream",
          "text": [
            "[nltk_data] Downloading package punkt to /root/nltk_data...\n",
            "[nltk_data]   Unzipping tokenizers/punkt.zip.\n"
          ],
          "name": "stdout"
        },
        {
          "output_type": "execute_result",
          "data": {
            "text/plain": [
              "True"
            ]
          },
          "metadata": {
            "tags": []
          },
          "execution_count": 4
        }
      ]
    },
    {
      "cell_type": "code",
      "metadata": {
        "id": "2IE07isO6klc",
        "colab_type": "code",
        "outputId": "db95dd0b-d405-4fd0-ea19-9008919d0e55",
        "colab": {
          "base_uri": "https://localhost:8080/",
          "height": 34
        }
      },
      "source": [
        "truecase.get_true_case('coney island considers banning sidewalk delivery robots')"
      ],
      "execution_count": 0,
      "outputs": [
        {
          "output_type": "execute_result",
          "data": {
            "text/plain": [
              "'Coney Island considers banning sidewalk delivery robots'"
            ]
          },
          "metadata": {
            "tags": []
          },
          "execution_count": 99
        }
      ]
    },
    {
      "cell_type": "markdown",
      "metadata": {
        "id": "FVHh54FqTRPR",
        "colab_type": "text"
      },
      "source": [
        "### spaCy NER "
      ]
    },
    {
      "cell_type": "code",
      "metadata": {
        "id": "ijc2utY8TVym",
        "colab_type": "code",
        "colab": {}
      },
      "source": [
        "import spacy\n",
        "\n",
        "nlp = spacy.load(\"en_core_web_sm\")"
      ],
      "execution_count": 0,
      "outputs": []
    },
    {
      "cell_type": "code",
      "metadata": {
        "id": "CjT4nmRpTuXh",
        "colab_type": "code",
        "outputId": "6fad057a-4703-4af1-81ec-1e7e1dd33005",
        "colab": {
          "base_uri": "https://localhost:8080/",
          "height": 34
        }
      },
      "source": [
        "text = \"New iPhone X release date leaked as Apple reveals pre-orders by mistake\"\n",
        "\n",
        "doc = nlp(text)\n",
        "\n",
        "for ent in doc.ents:\n",
        "    # Print the entity text and label\n",
        "    print(ent.text, ent.start_char, ent.end_char, ent.label_)"
      ],
      "execution_count": 0,
      "outputs": [
        {
          "output_type": "stream",
          "text": [
            "Apple 36 41 ORG\n"
          ],
          "name": "stdout"
        }
      ]
    },
    {
      "cell_type": "code",
      "metadata": {
        "id": "wOkpA_bBUhps",
        "colab_type": "code",
        "colab": {}
      },
      "source": [
        "import time"
      ],
      "execution_count": 0,
      "outputs": []
    },
    {
      "cell_type": "code",
      "metadata": {
        "id": "0zd4259GUht2",
        "colab_type": "code",
        "outputId": "281e700e-624e-47fc-de72-a56fbfdd1a60",
        "colab": {
          "base_uri": "https://localhost:8080/",
          "height": 51
        }
      },
      "source": [
        "now = time.time()\n",
        "\n",
        "text = \"port arthur considers banning sidewalk delivery robots\"\n",
        "\n",
        "truetext = truecase.get_true_case(text)\n",
        "\n",
        "doc = nlp(truetext)\n",
        "\n",
        "for ent in doc.ents:\n",
        "    # Print the entity text and label\n",
        "    print(text[ent.start_char:ent.end_char], ent.label_)\n",
        "\n",
        "print('time taken...', time.time() - now)"
      ],
      "execution_count": 0,
      "outputs": [
        {
          "output_type": "stream",
          "text": [
            "port arthur ORG\n",
            "time taken... 0.01902627944946289\n"
          ],
          "name": "stdout"
        }
      ]
    },
    {
      "cell_type": "code",
      "metadata": {
        "colab_type": "code",
        "id": "e8JtmZ7ulTwV",
        "colab": {}
      },
      "source": [
        ""
      ],
      "execution_count": 0,
      "outputs": []
    }
  ]
}