{
  "nbformat": 4,
  "nbformat_minor": 0,
  "metadata": {
    "colab": {
      "name": "pypostal.ipynb",
      "version": "0.3.2",
      "provenance": [],
      "include_colab_link": true
    },
    "kernelspec": {
      "name": "python3",
      "display_name": "Python 3"
    }
  },
  "cells": [
    {
      "cell_type": "markdown",
      "metadata": {
        "id": "view-in-github",
        "colab_type": "text"
      },
      "source": [
        "<a href=\"https://colab.research.google.com/github/RajanMehta/practice-libraries/blob/master/pypostal.ipynb\" target=\"_parent\"><img src=\"https://colab.research.google.com/assets/colab-badge.svg\" alt=\"Open In Colab\"/></a>"
      ]
    },
    {
      "cell_type": "code",
      "metadata": {
        "id": "1yoZEp8MQoXs",
        "colab_type": "code",
        "colab": {}
      },
      "source": [
        "!sudo apt-get update && apt-get install make curl autoconf automake libtool pkg-config"
      ],
      "execution_count": 0,
      "outputs": []
    },
    {
      "cell_type": "code",
      "metadata": {
        "id": "AdAzs68AR1hO",
        "colab_type": "code",
        "colab": {
          "base_uri": "https://localhost:8080/",
          "height": 102
        },
        "outputId": "ab20bd4b-72d1-4274-b846-e9221f2c8aef"
      },
      "source": [
        "!cd /usr/local && git clone https://github.com/openvenues/libpostal"
      ],
      "execution_count": 5,
      "outputs": [
        {
          "output_type": "stream",
          "text": [
            "Cloning into 'libpostal'...\n",
            "remote: Enumerating objects: 33144, done.\u001b[K\n",
            "remote: Total 33144 (delta 0), reused 0 (delta 0), pack-reused 33144\n",
            "Receiving objects: 100% (33144/33144), 36.79 MiB | 23.11 MiB/s, done.\n",
            "Resolving deltas: 100% (20933/20933), done.\n"
          ],
          "name": "stdout"
        }
      ]
    },
    {
      "cell_type": "code",
      "metadata": {
        "id": "FMcQNbLbR-cS",
        "colab_type": "code",
        "colab": {}
      },
      "source": [
        "!cd /var && mkdir libpostal && cd libpostal && mkdir data"
      ],
      "execution_count": 0,
      "outputs": []
    },
    {
      "cell_type": "code",
      "metadata": {
        "id": "uSQ2t0MLSDyJ",
        "colab_type": "code",
        "colab": {}
      },
      "source": [
        "!cd /usr/local/libpostal && ./bootstrap.sh && ./configure --datadir=/var/libpostal/data && make -j4 && make install && ldconfig"
      ],
      "execution_count": 0,
      "outputs": []
    },
    {
      "cell_type": "code",
      "metadata": {
        "id": "e2k9PVPjSR4m",
        "colab_type": "code",
        "colab": {
          "base_uri": "https://localhost:8080/",
          "height": 207
        },
        "outputId": "55fe0780-a70c-41ad-d64d-e0f9926edf10"
      },
      "source": [
        "!pip install postal"
      ],
      "execution_count": 8,
      "outputs": [
        {
          "output_type": "stream",
          "text": [
            "Collecting postal\n",
            "  Using cached https://files.pythonhosted.org/packages/56/f7/69ca5d374077e23aa9a51ecd4031222ca9dfb7d19c95d7691f024e2e27ef/postal-1.1.8.tar.gz\n",
            "Requirement already satisfied: six in /usr/local/lib/python3.6/dist-packages (from postal) (1.12.0)\n",
            "Building wheels for collected packages: postal\n",
            "  Building wheel for postal (setup.py) ... \u001b[?25l\u001b[?25hdone\n",
            "  Created wheel for postal: filename=postal-1.1.8-cp36-cp36m-linux_x86_64.whl size=162457 sha256=76d4d72c1e3bc07f9f50242c11113ef14cf35bc6982dce0b290155f94eba631f\n",
            "  Stored in directory: /root/.cache/pip/wheels/07/a1/d6/5d48641ee6f7c494c35534661d367b966b2b398e3789f48ffc\n",
            "Successfully built postal\n",
            "Installing collected packages: postal\n",
            "Successfully installed postal-1.1.8\n"
          ],
          "name": "stdout"
        }
      ]
    },
    {
      "cell_type": "code",
      "metadata": {
        "id": "YsdqnZEqValb",
        "colab_type": "code",
        "colab": {}
      },
      "source": [
        ""
      ],
      "execution_count": 0,
      "outputs": []
    },
    {
      "cell_type": "code",
      "metadata": {
        "id": "tEhEkBw3Vmer",
        "colab_type": "code",
        "colab": {}
      },
      "source": [
        "from postal.parser import parse_address\n"
      ],
      "execution_count": 0,
      "outputs": []
    },
    {
      "cell_type": "code",
      "metadata": {
        "id": "qzSaT1u7VtTM",
        "colab_type": "code",
        "colab": {
          "base_uri": "https://localhost:8080/",
          "height": 119
        },
        "outputId": "4cf177a8-4c35-4c0f-b51c-43fe248e8458"
      },
      "source": [
        "parse_address('915 main st apt 211 hartford connecticut 06103')"
      ],
      "execution_count": 17,
      "outputs": [
        {
          "output_type": "execute_result",
          "data": {
            "text/plain": [
              "[('915', 'house_number'),\n",
              " ('main st', 'road'),\n",
              " ('apt 211', 'unit'),\n",
              " ('hartford', 'city'),\n",
              " ('connecticut', 'state'),\n",
              " ('06103', 'postcode')]"
            ]
          },
          "metadata": {
            "tags": []
          },
          "execution_count": 17
        }
      ]
    },
    {
      "cell_type": "code",
      "metadata": {
        "id": "GC4z1q8CY_Oj",
        "colab_type": "code",
        "colab": {
          "base_uri": "https://localhost:8080/",
          "height": 136
        },
        "outputId": "0db1508a-531f-4b0e-cb1b-a8afee202776"
      },
      "source": [
        "parse_address('〒106-0044東京都港区東麻布1-8-1 東麻布ISビル4F')"
      ],
      "execution_count": 18,
      "outputs": [
        {
          "output_type": "execute_result",
          "data": {
            "text/plain": [
              "[('〒106-0044', 'postcode'),\n",
              " ('東', 'state'),\n",
              " ('京', 'city'),\n",
              " ('都港区', 'city_district'),\n",
              " ('東麻布1-8-1', 'house_number'),\n",
              " ('東麻布isビル', 'house'),\n",
              " ('4f', 'house_number')]"
            ]
          },
          "metadata": {
            "tags": []
          },
          "execution_count": 18
        }
      ]
    },
    {
      "cell_type": "code",
      "metadata": {
        "id": "op2dEgJraWQl",
        "colab_type": "code",
        "colab": {
          "base_uri": "https://localhost:8080/",
          "height": 119
        },
        "outputId": "d8747f50-503a-4b1e-a9ec-499d945959b5"
      },
      "source": [
        "parse_address('apt 20 2132 Glencoe hills dr ann arbor michigan 48104')"
      ],
      "execution_count": 20,
      "outputs": [
        {
          "output_type": "execute_result",
          "data": {
            "text/plain": [
              "[('apt 20', 'unit'),\n",
              " ('2132', 'house_number'),\n",
              " ('glencoe hills dr', 'road'),\n",
              " ('ann arbor', 'city'),\n",
              " ('michigan', 'state'),\n",
              " ('48104', 'postcode')]"
            ]
          },
          "metadata": {
            "tags": []
          },
          "execution_count": 20
        }
      ]
    }
  ]
}