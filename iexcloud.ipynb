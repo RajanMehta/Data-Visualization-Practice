{
  "nbformat": 4,
  "nbformat_minor": 0,
  "metadata": {
    "colab": {
      "name": "iexcloud.ipynb",
      "version": "0.3.2",
      "provenance": [],
      "collapsed_sections": [],
      "include_colab_link": true
    },
    "kernelspec": {
      "name": "python3",
      "display_name": "Python 3"
    }
  },
  "cells": [
    {
      "cell_type": "markdown",
      "metadata": {
        "id": "view-in-github",
        "colab_type": "text"
      },
      "source": [
        "<a href=\"https://colab.research.google.com/github/RajanMehta/practice-libraries/blob/master/iexcloud.ipynb\" target=\"_parent\"><img src=\"https://colab.research.google.com/assets/colab-badge.svg\" alt=\"Open In Colab\"/></a>"
      ]
    },
    {
      "cell_type": "code",
      "metadata": {
        "id": "OHAD3Ut9-ea-",
        "colab_type": "code",
        "colab": {}
      },
      "source": [
        "!pip3 install iexfinance"
      ],
      "execution_count": 0,
      "outputs": []
    },
    {
      "cell_type": "code",
      "metadata": {
        "id": "PZXukNDP-MQe",
        "colab_type": "code",
        "colab": {}
      },
      "source": [
        "import os\n",
        "os.environ['IEX_TOKEN'] = 'sk_fafc2ae27b7944d28724e622f87dd0c7'"
      ],
      "execution_count": 0,
      "outputs": []
    },
    {
      "cell_type": "code",
      "metadata": {
        "id": "hWS-OdW3-p_W",
        "colab_type": "code",
        "colab": {}
      },
      "source": [
        "from iexfinance.refdata import get_symbols\n",
        "from iexfinance.stocks import Stock\n",
        "from iexfinance.stocks import get_collections"
      ],
      "execution_count": 0,
      "outputs": []
    },
    {
      "cell_type": "code",
      "metadata": {
        "id": "H80csuYi-wOt",
        "colab_type": "code",
        "colab": {}
      },
      "source": [
        "get_symbols()[:3]"
      ],
      "execution_count": 0,
      "outputs": []
    },
    {
      "cell_type": "code",
      "metadata": {
        "id": "_shTFVLl_Hk_",
        "colab_type": "code",
        "colab": {}
      },
      "source": [
        "# Key Stats\n",
        "\n",
        "print( Stock('AAPL').get_price() ) #price\n",
        "\n",
        "print( Stock('AAPL').get_beta() )  #beta\n",
        " \n",
        "print( Stock('AAPL').get_earnings() )  # earning per share\n",
        "\n",
        "print( Stock('AAPL').get_shares_outstanding() )\n",
        "\n",
        "print( Stock('AAPL').get_float() )\n",
        "\n",
        "print( Stock('F').get_dividends(range='1m') )   #time period of dividends to return: `5y`,`2y`,`1y`,`ytd`,`6m`,`3m`,`1m`"
      ],
      "execution_count": 0,
      "outputs": []
    },
    {
      "cell_type": "code",
      "metadata": {
        "id": "CV4Jfv4sIz5_",
        "colab_type": "code",
        "colab": {}
      },
      "source": [
        "# Quote\n",
        "\n",
        "print( Stock('AAPL').get_company_name() )\n",
        "\n",
        "print( Stock('AAPL').get_sector() )\n",
        "\n",
        "print( Stock('AAPL').get_open() )\n",
        "\n",
        "print( Stock('AAPL').get_close() )\n",
        "\n",
        "print( Stock('AAPL').get_years_high() ) #52 week high\n",
        "\n",
        "print( Stock('AAPL').get_years_low() )  #52 week low\n",
        "\n",
        "print( Stock('AAPL').get_ytd_change() )\n",
        "\n",
        "print( Stock('AAPL').get_volume() )\n",
        "\n",
        "print( Stock('AAPL').get_market_cap() )"
      ],
      "execution_count": 0,
      "outputs": []
    },
    {
      "cell_type": "code",
      "metadata": {
        "id": "r1ks9Wl09Bqp",
        "colab_type": "code",
        "colab": {}
      },
      "source": [
        "Stock('AAPL').get_ohlc()"
      ],
      "execution_count": 0,
      "outputs": []
    },
    {
      "cell_type": "code",
      "metadata": {
        "id": "yHmaave56ubA",
        "colab_type": "code",
        "colab": {}
      },
      "source": [
        "Stock('AAPL').get_key_stats()"
      ],
      "execution_count": 0,
      "outputs": []
    },
    {
      "cell_type": "code",
      "metadata": {
        "id": "0HFBzMyV7jEA",
        "colab_type": "code",
        "colab": {}
      },
      "source": [
        "company = Stock('AAPL').get_company()\n",
        "ohlc = Stock('AAPL').get_ohlc()\n",
        "stats = Stock('AAPL').get_key_stats()\n",
        "\n",
        "{**company, **ohlc, **stats}"
      ],
      "execution_count": 0,
      "outputs": []
    },
    {
      "cell_type": "code",
      "metadata": {
        "id": "rR2R1UhK3kHD",
        "colab_type": "code",
        "colab": {}
      },
      "source": [
        "print( Stock('AAPL').get_financials() ) #Pulls income statement, balance sheet, and cash flow data from the most recent reported quarter."
      ],
      "execution_count": 0,
      "outputs": []
    },
    {
      "cell_type": "code",
      "metadata": {
        "id": "fvvldOEsx3HP",
        "colab_type": "code",
        "colab": {}
      },
      "source": [
        "Stock('AAPL').get_relevant_stocks()  # relevanget_relevant_stockst stock"
      ],
      "execution_count": 0,
      "outputs": []
    },
    {
      "cell_type": "code",
      "metadata": {
        "id": "E5ahO3G20kaV",
        "colab_type": "code",
        "colab": {}
      },
      "source": [
        "from iexfinance.stocks import get_sector_performance\n",
        "\n",
        "get_sector_performance()  # industry performance"
      ],
      "execution_count": 0,
      "outputs": []
    },
    {
      "cell_type": "code",
      "metadata": {
        "id": "6CljaqGx1eJy",
        "colab_type": "code",
        "colab": {}
      },
      "source": [
        "Stock('AAPL').get_company()  #company data"
      ],
      "execution_count": 0,
      "outputs": []
    },
    {
      "cell_type": "code",
      "metadata": {
        "id": "4o90W5wOYueI",
        "colab_type": "code",
        "colab": {}
      },
      "source": [
        "from datetime import datetime\n",
        "\n",
        "ts = int(\"1561639618000\")\n",
        "print(datetime.utcfromtimestamp(ts/1000).strftime('%Y-%m-%d'))"
      ],
      "execution_count": 0,
      "outputs": []
    },
    {
      "cell_type": "code",
      "metadata": {
        "id": "MU4JKwmP7ufT",
        "colab_type": "code",
        "colab": {}
      },
      "source": [
        "Stock('BRK.A').get_news()"
      ],
      "execution_count": 0,
      "outputs": []
    },
    {
      "cell_type": "code",
      "metadata": {
        "id": "HXq4X8GKPHC3",
        "colab_type": "code",
        "colab": {}
      },
      "source": [
        "historical_data = Stock(\"TSLA\").get_chart(range=\"5d\")\n",
        "historical_data"
      ],
      "execution_count": 0,
      "outputs": []
    },
    {
      "cell_type": "code",
      "metadata": {
        "id": "C24ySG_rAG9U",
        "colab_type": "code",
        "colab": {}
      },
      "source": [
        "!pip3 install fuzzywuzzy\n",
        "!pip3 install python-Levenshtein"
      ],
      "execution_count": 0,
      "outputs": []
    },
    {
      "cell_type": "code",
      "metadata": {
        "id": "eltensOJCcgB",
        "colab_type": "code",
        "colab": {}
      },
      "source": [
        "from fuzzywuzzy import fuzz \n",
        "from fuzzywuzzy import process"
      ],
      "execution_count": 0,
      "outputs": []
    },
    {
      "cell_type": "code",
      "metadata": {
        "id": "lNoNbqQh_9QP",
        "colab_type": "code",
        "colab": {}
      },
      "source": [
        "import requests\n",
        "\n",
        "def getTicker(name):\n",
        "  r = requests.get('https://api.iextrading.com/1.0/ref-data/symbols')\n",
        "  stockList = r.json()\n",
        "  return [obj for obj in stockList if fuzz.partial_ratio(obj['name'], name) > 75][0]['symbol']"
      ],
      "execution_count": 0,
      "outputs": []
    },
    {
      "cell_type": "code",
      "metadata": {
        "id": "GXKTeb0yLYx-",
        "colab_type": "code",
        "colab": {}
      },
      "source": [
        "def getTicker(name):\n",
        "  r = requests.get('https://api.iextrading.com/1.0/ref-data/symbols')\n",
        "  stockList = r.json()\n",
        "  return process.extractOne(name, stockList)[0]['symbol']"
      ],
      "execution_count": 0,
      "outputs": []
    },
    {
      "cell_type": "code",
      "metadata": {
        "id": "HaX_w_wuoFzC",
        "colab_type": "code",
        "colab": {}
      },
      "source": [
        "getTicker(\"sina corporation\")"
      ],
      "execution_count": 0,
      "outputs": []
    },
    {
      "cell_type": "code",
      "metadata": {
        "id": "TlOyzmOVDEoQ",
        "colab_type": "code",
        "colab": {}
      },
      "source": [
        "possiblePeriods = {\n",
        "        \"5 years\": \"5y\",\n",
        "        \"2 years\": \"2y\",\n",
        "        \"1 year\": \"1y\",\n",
        "        \"year to date\": \"ytd\",\n",
        "        \"ytd\": \"ytd\",\n",
        "        \"6 months\": \"6m\",\n",
        "        \"3 months\": \"3m\",\n",
        "        \"1 month\": \"1m\"\n",
        "    }\n",
        "\n",
        "selectedPeriod = process.extractOne(\"year to date\", possiblePeriods.keys())[0]\n",
        "possiblePeriods[selectedPeriod]"
      ],
      "execution_count": 0,
      "outputs": []
    },
    {
      "cell_type": "code",
      "metadata": {
        "id": "voTwEhFaTfh_",
        "colab_type": "code",
        "colab": {}
      },
      "source": [
        "getTicker('google')"
      ],
      "execution_count": 0,
      "outputs": []
    },
    {
      "cell_type": "code",
      "metadata": {
        "id": "ylPaKMLUWbyk",
        "colab_type": "code",
        "colab": {}
      },
      "source": [
        "Stock('GOOGL').get_company_name()"
      ],
      "execution_count": 0,
      "outputs": []
    },
    {
      "cell_type": "code",
      "metadata": {
        "id": "2WG2H3lQIhtf",
        "colab_type": "code",
        "colab": {}
      },
      "source": [
        "fuzz.partial_ratio('ford motor company', 'ford motors')"
      ],
      "execution_count": 0,
      "outputs": []
    },
    {
      "cell_type": "code",
      "metadata": {
        "id": "k-eBzm5zptKm",
        "colab_type": "code",
        "colab": {}
      },
      "source": [
        "import iexfinance"
      ],
      "execution_count": 0,
      "outputs": []
    },
    {
      "cell_type": "code",
      "metadata": {
        "id": "thQzgvrBp4kk",
        "colab_type": "code",
        "colab": {}
      },
      "source": [
        "marketGainers = list( map(lambda x: Stock(x['symbol']).get_company(), iexfinance.stocks.get_market_gainers()) )\n",
        "marketLosers = list( map(lambda x: Stock(x['symbol']).get_company(), iexfinance.stocks.get_market_losers()) )\n",
        "sectorPerformance = iexfinance.stocks.get_sector_performance()"
      ],
      "execution_count": 0,
      "outputs": []
    },
    {
      "cell_type": "code",
      "metadata": {
        "id": "-xkwWRqfyyIn",
        "colab_type": "code",
        "colab": {}
      },
      "source": [
        "iexfinance.stocks.get_market_most_active()"
      ],
      "execution_count": 0,
      "outputs": []
    },
    {
      "cell_type": "code",
      "metadata": {
        "id": "uYj_muvUuTWH",
        "colab_type": "code",
        "colab": {}
      },
      "source": [
        "[{'company': obj['companyName'], 'sector': obj['sector']} for obj in marketLosers if fuzz.partial_ratio(obj['sector'], 'social media') > 50]"
      ],
      "execution_count": 0,
      "outputs": []
    },
    {
      "cell_type": "code",
      "metadata": {
        "id": "8xifQcPxbJF9",
        "colab_type": "code",
        "colab": {}
      },
      "source": [
        "def findAndExecute(stock, metric, period=None):\n",
        "    identifiedMetric = process.extractOne(metric, metricsMapping.keys())[0]\n",
        "    if period:\n",
        "        return {identifiedMetric: metricsMapping[identifiedMetric](stock, period)}\n",
        "    else:\n",
        "        return {identifiedMetric: metricsMapping[identifiedMetric](stock)}\n",
        "\n",
        "def get_price(stock, *karg):\n",
        "    return Stock(stock).get_price()\n",
        "\n",
        "def get_open(stock, *karg):\n",
        "    return Stock(stock).get_open()\n",
        "\n",
        "def get_close(stock, *karg):\n",
        "    return Stock(stock).get_close()\n",
        "\n",
        "def get_beta(stock, *karg):\n",
        "    return Stock(stock).get_beta()\n",
        "\n",
        "def get_pe_ratio(stock, *karg):\n",
        "    return Stock(stock).get_key_stats()['peRatio']\n",
        "\n",
        "def get_market_cap(stock, *karg):\n",
        "    return Stock(stock).get_market_cap()\n",
        "\n",
        "def get_financials(stock, *karg):\n",
        "    return Stock(stock).get_financials()\n",
        "\n",
        "def get_high(stock, period=\"xxxx\"):\n",
        "    if any(x in period for x in ['1 year', '52 week']):\n",
        "        return Stock(stock).get_years_high()\n",
        "    else:\n",
        "        return Stock(stock).get_ohlc()\n",
        "\n",
        "def get_low(stock, period=\"xxxx\"):\n",
        "    if any(x in period for x in ['1 year', '52 week']):\n",
        "        return Stock(stock).get_years_low()\n",
        "    else:\n",
        "        return Stock(stock).get_ohlc()\n",
        "\n",
        "def get_earnings(stock, period=\"xxxx\"):  #max upto 1 year\n",
        "    if 'year' in period:\n",
        "        return Stock(stock).get_earnings(last = 4)\n",
        "    elif 'quarter' in period:\n",
        "        last = [int(s) for s in period.split() if s.isdigit()]\n",
        "        return Stock(stock).get_earnings(last = last[0])\n",
        "    else:\n",
        "        return Stock(stock).get_earnings()\n",
        "\n",
        "def get_shares_outstanding(stock, *karg):\n",
        "    return Stock(stock).get_shares_outstanding()\n",
        "\n",
        "def get_float(stock):\n",
        "    return Stock(stock).get_float()\n",
        "\n",
        "def get_dividends(stock, period=\"1 year\"):\n",
        "    possiblePeriods = {\n",
        "        \"5 years\": \"5y\",\n",
        "        \"2 years\": \"2y\",\n",
        "        \"1 year\": \"1y\",\n",
        "        \"year to date\": \"ytd\",\n",
        "        \"ytd\": \"ytd\",\n",
        "        \"6 months\": \"6m\",\n",
        "        \"3 months\": \"3m\",\n",
        "        \"1 month\": \"1m\"\n",
        "    }\n",
        "\n",
        "    identiedPeriod = process.extractOne(period, possiblePeriods.keys())[0]\n",
        "    selectedPeriod = possiblePeriods[identiedPeriod]\n",
        "    return Stock(stock).get_dividends(range = selectedPeriod)\n",
        "\n",
        "def get_change_percent(stock, period=\"2 year\"):\n",
        "    possiblePeriods = {\n",
        "        \"5 years\": \"year5ChangePercent\",\n",
        "        \"2 years\": \"year2ChangePercent\",\n",
        "        \"1 year\": \"year1ChangePercent\",\n",
        "        \"year to date\": \"ytdChangePercent\",\n",
        "        \"ytd\": \"ytdChangePercent\",\n",
        "        \"6 months\": \"month6ChangePercent\",\n",
        "        \"3 months\": \"month3ChangePercent\",\n",
        "        \"1 month\": \"month1ChangePercent\",\n",
        "        \"5 day\": \"day5ChangePercent\"\n",
        "    }\n",
        "\n",
        "    identiiedPeriod = process.extractOne(period, possiblePeriods.keys())[0]\n",
        "    return Stock(stock).get_key_stats()[ possiblePeriods[identiiedPeriod] ]\n",
        "\n",
        "def get_volume(stock, period=\"30 day\"):\n",
        "    possiblePeriods = {\n",
        "        \"10 day\": \"avg10Volume\",\n",
        "        \"30 day\": \"avg30Volume\"\n",
        "    }\n",
        "    identiiedPeriod = process.extractOne(period, possiblePeriods.keys())[0]\n",
        "    return Stock(stock).get_key_stats()[ possiblePeriods[identiiedPeriod] ]\n",
        "\n",
        "def get_moving_avg(stock, period=\"200 day\"):\n",
        "    possiblePeriods = {\n",
        "        \"50 day\": \"day50MovingAvg\",\n",
        "        \"200 day\": \"day200MovingAvg\"\n",
        "    }\n",
        "    identiiedPeriod = process.extractOne(period, possiblePeriods.keys())[0]\n",
        "    return Stock(stock).get_key_stats()[ possiblePeriods[identiiedPeriod] ]\n",
        "\n",
        "\n",
        "metricsMapping = {\n",
        "    **dict.fromkeys([\"price\", \"trading at\"], get_price ),\n",
        "    **dict.fromkeys([\"beta\", \"volatality\"], get_beta ),\n",
        "    **dict.fromkeys([\"earnings\", \"EPS\", \"earnings per share\"], get_earnings ), #has period\n",
        "    **dict.fromkeys([\"outstanding\"], get_shares_outstanding ),\n",
        "    **dict.fromkeys([\"floating\"], get_float ),\n",
        "    **dict.fromkeys([\"dividend\"], get_dividends ),  #has period\n",
        "    **dict.fromkeys([\"open\", \"opening\"], get_open ),\n",
        "    **dict.fromkeys([\"close\", \"closing\"], get_close ),\n",
        "    **dict.fromkeys([\"high\"], get_high ) ,\n",
        "    **dict.fromkeys([\"low\"], get_low ) ,\n",
        "    **dict.fromkeys([\"change percent\"], get_change_percent ),  #has period with ytd, get_key_stats\n",
        "    **dict.fromkeys([\"volume\"], get_volume ), # has period, get_key_stats\n",
        "    **dict.fromkeys([\"market cap\", \"market capitalization\", \"market value\"], get_market_cap ),\n",
        "    **dict.fromkeys([\"pe ratio\", \"price to earning ratio\"], get_pe_ratio ),\n",
        "    **dict.fromkeys([\"moving average\", \"moving avg\"], get_moving_avg ),\n",
        "    **dict.fromkeys([\"income statement\", \"balance sheet\", \"cash flow\", \"cash change\",\n",
        "        \"shareholder equity\", \"cost of revenue\", \"current assets\", \"current cash\",\n",
        "        \"current debt\", \"gross profit\", \"long term debt\", \"net income\",\n",
        "        \"operating expense\", \"operating income\", \"operating revenue\", \"short term debt\",\n",
        "        \"total debt\", \"total cash\", \"total assets\", \"liabilities\", \"total revenue\"], get_financials )\n",
        "}"
      ],
      "execution_count": 0,
      "outputs": []
    },
    {
      "cell_type": "code",
      "metadata": {
        "id": "cSteluJfcI_p",
        "colab_type": "code",
        "colab": {}
      },
      "source": [
        "findAndExecute(\"tsla\", \"high\")"
      ],
      "execution_count": 0,
      "outputs": []
    },
    {
      "cell_type": "code",
      "metadata": {
        "id": "GWdJ3XgiN6V8",
        "colab_type": "code",
        "colab": {}
      },
      "source": [
        "!pip3 install word2number"
      ],
      "execution_count": 0,
      "outputs": []
    },
    {
      "cell_type": "code",
      "metadata": {
        "id": "f5FyRdbwN9TB",
        "colab_type": "code",
        "colab": {}
      },
      "source": [
        "from word2number import w2n\n",
        "\n",
        "print(w2n.word_to_num('one two four'))"
      ],
      "execution_count": 0,
      "outputs": []
    },
    {
      "cell_type": "code",
      "metadata": {
        "id": "8nLhAKP_LcV7",
        "colab_type": "code",
        "colab": {}
      },
      "source": [
        "from iexfinance.stocks import get_historical_data"
      ],
      "execution_count": 0,
      "outputs": []
    },
    {
      "cell_type": "code",
      "metadata": {
        "id": "dmJMV9mnLdlp",
        "colab_type": "code",
        "colab": {}
      },
      "source": [
        "start = datetime(2017, 1, 1)\n",
        "end = datetime(2018, 1, 1)\n",
        "\n",
        "get_historical_data(\"TSLA\", \"20190617\", \"20190620\", close_only=True, output_format='pandas')"
      ],
      "execution_count": 0,
      "outputs": []
    },
    {
      "cell_type": "code",
      "metadata": {
        "id": "MeY03Shfyhk-",
        "colab_type": "code",
        "colab": {}
      },
      "source": [
        "import re"
      ],
      "execution_count": 0,
      "outputs": []
    },
    {
      "cell_type": "code",
      "metadata": {
        "id": "PNCY4POlyjUk",
        "colab_type": "code",
        "colab": {}
      },
      "source": [
        "list_patterns = [r'\\d+ *%', r'\\d+']\n",
        "swaplogic = '|'\n",
        "string = '5 %age 59'\n",
        "\n",
        "re.findall(swaplogic.join(list_patterns), string)"
      ],
      "execution_count": 0,
      "outputs": []
    },
    {
      "cell_type": "code",
      "metadata": {
        "id": "tA1K4iAe3P3X",
        "colab_type": "code",
        "colab": {}
      },
      "source": [
        "string = re.sub('percent', '%', '5 percentage')\n",
        "re.findall(swaplogic.join(list_patterns), string)"
      ],
      "execution_count": 0,
      "outputs": []
    },
    {
      "cell_type": "code",
      "metadata": {
        "id": "8JwI88O8CnjP",
        "colab_type": "code",
        "colab": {}
      },
      "source": [
        "ordinal = lambda x:[\"first\",\"second\",\"third\",\"fourth\",\"fifth\",\"sixth\",\"seventh\",\"eighth\",\"ninth\",\"tenth\",\"eleventh\",\"twelfth\"][x-1]\n",
        "ordinal(3)"
      ],
      "execution_count": 0,
      "outputs": []
    },
    {
      "cell_type": "code",
      "metadata": {
        "id": "FVvoDkwDDOGt",
        "colab_type": "code",
        "colab": {}
      },
      "source": [
        "ordinal = lambda n: \"%d%s\" % (n,\"tsnrhtdd\"[(n/10%10!=1)*(n%10<4)*n%10::4])\n",
        "ordinal(1)"
      ],
      "execution_count": 0,
      "outputs": []
    },
    {
      "cell_type": "code",
      "metadata": {
        "id": "_mkfN_s4_ph5",
        "colab_type": "code",
        "colab": {}
      },
      "source": [
        "\"{:.0%}\".format(3/4)"
      ],
      "execution_count": 0,
      "outputs": []
    },
    {
      "cell_type": "code",
      "metadata": {
        "id": "nS9Z2A0HbgAK",
        "colab_type": "code",
        "colab": {}
      },
      "source": [
        "# MYSQL Stopwords\n",
        "\n",
        "[\"a\",\"a's\" , \"able\" , \"about\" , \"above\" , \"according\" , \"accordingly\" , \"across\" , \"actually\" , \"after\" , \"afterwards\" , \"again\" , \n",
        " \"against\" , \"ain't\" , \"all\" , \"allow\" , \"allows\" , \"almost\" , \"alone\" , \"along\" , \"already\" , \"also\" , \"although\" , \"always\" , \n",
        " \"am\" , \"among\" , \"amongst\" , \"an\" , \"and\" , \"another\" , \"any\" , \"anybody\" , \"anyhow\" , \"anyone\" , \"anything\" , \"anyway\" , \n",
        " \"anyways\" , \"anywhere\" , \"apart\" , \"appear\" , \"appreciate\" , \"appropriate\" , \"are\" , \"aren't\" , \"around\" , \"as\" , \"aside\" , \n",
        " \"ask\" , \"asking\" , \"associated\" , \"at\" , \"available\" , \"away\" , \"awfully\" , \"be\" , \"became\" , \"because\" , \"become\" , \n",
        " \"becomes\" , \"becoming\" , \"been\" , \"before\" , \"beforehand\" , \"behind\" , \"being\" , \"believe\" , \"below\" , \"beside\" , \n",
        " \"besides\" , \"best\" , \"better\" , \"between\" , \"beyond\" , \"both\" , \"brief\" , \"but\" , \"by\" , \"c'mon\" , \"c's\" , \"came\" , \n",
        " \"can\" , \"can't\" , \"cannot\" , \"cant\" , \"cause\" , \"causes\" , \"certain\" , \"certainly\" , \"changes\" , \"clearly\" , \"co\" , \n",
        " \"com\" , \"come\" , \"comes\" , \"concerning\" , \"consequently\" , \"consider\" , \"considering\" , \"contain\" , \"containing\" , \"contains\" , \n",
        " \"corresponding\" , \"could\" , \"couldn't\" , \"course\" , \"currently\" , \"definitely\" , \"described\" , \"despite\" , \"did\" , \"didn't\" , \n",
        " \"different\" , \"do\" , \"does\" , \"doesn't\" , \"doing\" , \"don't\" , \"done\" , \"down\" , \"downwards\" , \"during\" , \"each\" , \"edu\" , \"eg\" , \n",
        " \"eight\" , \"either\" , \"else\" , \"elsewhere\" , \"enough\" , \"entirely\" , \"especially\" , \"et\" , \"etc\" , \"even\" , \"ever\" , \"every\" , \n",
        " \"everybody\" , \"everyone\" , \"everything\" , \"everywhere\" , \"ex\" , \"exactly\" , \"example\" , \"except\" , \"far\" , \"few\" , \"fifth\" , \n",
        " \"first\" , \"five\" , \"followed\" , \"following\" , \"follows\" , \"for\" , \"former\" , \"formerly\" , \"forth\" , \"four\" , \"from\" , \n",
        " \"further\" , \"furthermore\" , \"get\" , \"gets\" , \"getting\" , \"given\" , \"gives\" , \"go\" , \"goes\" , \"going\" , \"gone\" , \"got\" , \n",
        " \"gotten\" , \"greetings\" , \"had\" , \"hadn't\" , \"happens\" , \"hardly\" , \"has\" , \"hasn't\" , \"have\" , \"haven't\" , \"having\" , \n",
        " \"he\" , \"he's\" , \"hello\" , \"help\" , \"hence\" , \"her\" , \"here\" , \"here's\" , \"hereafter\" , \"hereby\" , \"herein\" , \"hereupon\" , \n",
        " \"hers\" , \"herself\" , \"hi\" , \"him\" , \"himself\" , \"his\" , \"hither\" , \"hopefully\" , \"how\" , \"howbeit\" , \"however\" , \"i'd\" , \"i'll\" , \n",
        " \"i'm\" , \"i've\" , \"ie\" , \"if\" , \"ignored\" , \"immediate\" , \"in\" , \"inasmuch\" , \"inc\" , \"indeed\" , \"indicate\" , \"indicated\" , \n",
        " \"indicates\" , \"inner\" , \"insofar\" , \"instead\" , \"into\" , \"inward\" , \"is\" , \"isn't\" , \"it\" , \"it'd\" , \"it'll\" , \"it's\" , \"its\" , \n",
        " \"itself\" , \"just\" , \"keep\" , \"keeps\" , \"kept\" , \"know\" , \"known\" , \"knows\" , \"last\" , \"lately\" , \"later\" , \"latter\" , \"latterly\" , \n",
        " \"least\" , \"less\" , \"lest\" , \"let\" , \"let's\" , \"like\" , \"liked\" , \"likely\" , \"little\" , \"look\" , \"looking\" , \"looks\" , \"ltd\" , \n",
        " \"mainly\" , \"many\" , \"may\" , \"maybe\" , \"me\" , \"mean\" , \"meanwhile\" , \"merely\" , \"might\" , \"more\" , \"moreover\" , \"most\" , \"mostly\" , \n",
        " \"much\" , \"must\" , \"my\" , \"myself\" , \"name\" , \"namely\" , \"nd\" , \"near\" , \"nearly\" , \"necessary\" , \"need\" , \"needs\" , \"neither\" , \n",
        " \"never\" , \"nevertheless\" , \"new\" , \"next\" , \"nine\" , \"no\" , \"nobody\" , \"non\" , \"none\" , \"noone\" , \"nor\" , \"normally\" , \"not\" , \n",
        " \"nothing\" , \"novel\" , \"now\" , \"nowhere\" , \"obviously\" , \"of\" , \"off\" , \"often\" , \"oh\" , \"ok\" , \"okay\" , \"old\" , \"on\" , \"once\" , \n",
        " \"one\" , \"ones\" , \"only\" , \"onto\" , \"or\" , \"other\" , \"others\" , \"otherwise\" , \"ought\" , \"our\" , \"ours\" , \"ourselves\" , \"out\" , \n",
        " \"outside\" , \"over\" , \"overall\" , \"own\" , \"particular\" , \"particularly\" , \"per\" , \"perhaps\" , \"placed\" , \"please\" , \"plus\" , \"possible\" , \n",
        " \"presumably\" , \"probably\" , \"provides\" , \"que\" , \"quite\" , \"qv\" , \"rather\" , \"rd\" , \"re\" , \"really\" , \"reasonably\" , \"regarding\" , \n",
        " \"regardless\" , \"regards\" , \"relatively\" , \"respectively\" , \"right\" , \"said\" , \"same\" , \"saw\" , \"say\" , \"saying\" , \"says\" , \"second\" , \n",
        " \"secondly\" , \"see\" , \"seeing\" , \"seem\" , \"seemed\" , \"seeming\" , \"seems\" , \"seen\" , \"self\" , \"selves\" , \"sensible\" , \"sent\" , \"serious\" , \n",
        " \"seriously\" , \"seven\" , \"several\" , \"shall\" , \"she\" , \"should\" , \"shouldn't\" , \"since\" , \"six\" , \"so\" , \"some\" , \"somebody\" , \"somehow\" , \n",
        " \"someone\" , \"something\" , \"sometime\" , \"sometimes\" , \"somewhat\" , \"somewhere\" , \"soon\" , \"sorry\" , \"specified\" , \"specify\" , \n",
        " \"specifying\" , \"still\" , \"sub\" , \"such\" , \"sup\" , \"sure\" , \"t's\" , \"take\" , \"taken\" , \"tell\" , \"tends\" , \"th\" , \"than\" , \"thank\" , \n",
        " \"thanks\" , \"thanx\" , \"that\" , \"that's\" , \"thats\" , \"the\" , \"their\" , \"theirs\" , \"them\" , \"themselves\" , \"then\" , \"thence\" , \"there\" , \n",
        " \"there's\" , \"thereafter\" , \"thereby\" , \"therefore\" , \"therein\" , \"theres\" , \"thereupon\" , \"these\" , \"they\" , \"they'd\" , \"they'll\" , \n",
        " \"they're\" , \"they've\" , \"think\" , \"third\" , \"this\" , \"thorough\" , \"thoroughly\" , \"those\" , \"though\" , \"three\" , \"through\" , \"throughout\" , \n",
        " \"thru\" , \"thus\" , \"to\" , \"together\" , \"too\" , \"took\" , \"toward\" , \"towards\" , \"tried\" , \"tries\" , \"truly\" , \"try\" , \"trying\" , \"twice\" , \n",
        " \"two\" , \"un\" , \"under\" , \"unfortunately\" , \"unless\" , \"unlikely\" , \"until\" , \"unto\" , \"up\" , \"upon\" , \"us\" , \"use\" , \"used\" , \"useful\" , \n",
        " \"uses\" , \"using\" , \"usually\" , \"value\" , \"various\" , \"very\" , \"via\" , \"viz\" , \"vs\" , \"want\" , \"wants\" , \"was\" , \"wasn't\" , \"way\" , \"we\" , \n",
        " \"we'd\" , \"we'll\" , \"we're\" , \"we've\" , \"welcome\" , \"well\" , \"went\" , \"were\" , \"weren't\" , \"what\" , \"what's\" , \"whatever\" , \"when\" , \n",
        " \"whence\" , \"whenever\" , \"where\" , \"where's\" , \"whereafter\" , \"whereas\" , \"whereby\" , \"wherein\" , \"whereupon\" , \"wherever\" , \"whether\" , \n",
        " \"which\" , \"while\" , \"whither\" , \"who\" , \"who's\" , \"whoever\" , \"whole\" , \"whom\" , \"whose\" , \"why\" , \"will\" , \"willing\" , \"wish\" , \"with\" , \n",
        " \"within\" , \"without\" , \"won't\" , \"wonder\" , \"would\" , \"wouldn't\" , \"yes\" , \"yet\" , \"you\" , \"you'd\" , \"you'll\" , \"you're\" , \"you've\" , \n",
        " \"your\" , \"yours\" , \"yourself\" , \"yourselves\" , \"zero\"]"
      ],
      "execution_count": 0,
      "outputs": []
    },
    {
      "cell_type": "code",
      "metadata": {
        "id": "-zbFWjCvIMHA",
        "colab_type": "code",
        "colab": {}
      },
      "source": [
        "['EPS','assets','balance','beta','cash','change','close','closing','current','debt','dividend','earnings','equity','expenditure','expense','gross','high','income','liabilities','low','net','open','opening','operating','percent','percentage','price','profit','revenue','share','shareholder','statement','total','volatality','yield']"
      ],
      "execution_count": 0,
      "outputs": []
    },
    {
      "cell_type": "code",
      "metadata": {
        "id": "ujf9ZzD_VSjW",
        "colab_type": "code",
        "colab": {}
      },
      "source": [
        "list(map(float, ['1.1', '59.2']))"
      ],
      "execution_count": 0,
      "outputs": []
    },
    {
      "cell_type": "code",
      "metadata": {
        "id": "uCXSXeSuXEFS",
        "colab_type": "code",
        "colab": {}
      },
      "source": [
        "split_amt = [\"25\", \"25 yen\", \"20Yen\", \"20\"]\n",
        "[round(elem, 2) for elem in map(float, [re.findall(r'\\d*\\.\\d+|\\d+', amt)[0] for amt in split_amt] )]"
      ],
      "execution_count": 0,
      "outputs": []
    },
    {
      "cell_type": "code",
      "metadata": {
        "id": "XY9oq6-NFA1R",
        "colab_type": "code",
        "colab": {}
      },
      "source": [
        "round(float(re.findall(r'\\d*\\.\\d+|\\d+', \"100.555 yen\")[0]),2)"
      ],
      "execution_count": 0,
      "outputs": []
    }
  ]
}