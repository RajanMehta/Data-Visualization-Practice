{
  "nbformat": 4,
  "nbformat_minor": 0,
  "metadata": {
    "colab": {
      "name": "iexcloud.ipynb",
      "version": "0.3.2",
      "provenance": [],
      "collapsed_sections": [],
      "include_colab_link": true
    },
    "kernelspec": {
      "name": "python3",
      "display_name": "Python 3"
    }
  },
  "cells": [
    {
      "cell_type": "markdown",
      "metadata": {
        "id": "view-in-github",
        "colab_type": "text"
      },
      "source": [
        "<a href=\"https://colab.research.google.com/github/RajanMehta/practice-libraries/blob/master/iexcloud.ipynb\" target=\"_parent\"><img src=\"https://colab.research.google.com/assets/colab-badge.svg\" alt=\"Open In Colab\"/></a>"
      ]
    },
    {
      "cell_type": "code",
      "metadata": {
        "id": "OHAD3Ut9-ea-",
        "colab_type": "code",
        "colab": {}
      },
      "source": [
        "!pip3 install iexfinance==0.4.2\n",
        "!pip3 install pandas==0.24.2"
      ],
      "execution_count": 0,
      "outputs": []
    },
    {
      "cell_type": "code",
      "metadata": {
        "id": "PZXukNDP-MQe",
        "colab_type": "code",
        "colab": {}
      },
      "source": [
        "import os\n",
        "os.environ['IEX_TOKEN'] = 'sk_fafc2ae27b7944d28724e622f87dd0c7'"
      ],
      "execution_count": 0,
      "outputs": []
    },
    {
      "cell_type": "code",
      "metadata": {
        "id": "hWS-OdW3-p_W",
        "colab_type": "code",
        "colab": {}
      },
      "source": [
        "from iexfinance.refdata import get_symbols\n",
        "from iexfinance.stocks import Stock\n",
        "from iexfinance.stocks import get_collections"
      ],
      "execution_count": 0,
      "outputs": []
    },
    {
      "cell_type": "code",
      "metadata": {
        "id": "H80csuYi-wOt",
        "colab_type": "code",
        "outputId": "c32badc4-9826-4b74-ab50-7cb6c6d748c2",
        "colab": {
          "base_uri": "https://localhost:8080/",
          "height": 476
        }
      },
      "source": [
        "get_symbols()[:3]"
      ],
      "execution_count": 4,
      "outputs": [
        {
          "output_type": "execute_result",
          "data": {
            "text/plain": [
              "[{'currency': 'USD',\n",
              "  'date': '2019-09-15',\n",
              "  'exchange': 'NYS',\n",
              "  'iexId': 'IEX_46574843354B2D52',\n",
              "  'isEnabled': True,\n",
              "  'name': 'Agilent Technologies Inc.',\n",
              "  'region': 'US',\n",
              "  'symbol': 'A',\n",
              "  'type': 'cs'},\n",
              " {'currency': 'USD',\n",
              "  'date': '2019-09-15',\n",
              "  'exchange': 'NYS',\n",
              "  'iexId': 'IEX_4238333734532D52',\n",
              "  'isEnabled': True,\n",
              "  'name': 'Alcoa Corp.',\n",
              "  'region': 'US',\n",
              "  'symbol': 'AA',\n",
              "  'type': 'cs'},\n",
              " {'currency': 'USD',\n",
              "  'date': '2019-09-15',\n",
              "  'exchange': 'PSE',\n",
              "  'iexId': 'IEX_474B433136332D52',\n",
              "  'isEnabled': True,\n",
              "  'name': 'Perth Mint Physical Gold ETF',\n",
              "  'region': 'US',\n",
              "  'symbol': 'AAAU',\n",
              "  'type': 'et'}]"
            ]
          },
          "metadata": {
            "tags": []
          },
          "execution_count": 4
        }
      ]
    },
    {
      "cell_type": "code",
      "metadata": {
        "id": "_shTFVLl_Hk_",
        "colab_type": "code",
        "outputId": "c246013e-3083-49be-8a47-8833cedd858f",
        "colab": {
          "base_uri": "https://localhost:8080/",
          "height": 139
        }
      },
      "source": [
        "# Key Stats\n",
        "\n",
        "print( Stock('AAPL').get_price() ) #price\n",
        "\n",
        "print( Stock('AAPL').get_beta() )  #beta\n",
        " \n",
        "print( Stock('AAPL').get_earnings() )  # earning per share\n",
        "\n",
        "print( Stock('AAPL').get_shares_outstanding() )\n",
        "\n",
        "print( Stock('AAPL').get_float() )\n",
        "\n",
        "print( Stock('F').get_dividends(range='3m') )   #time period of dividends to return: `5y`,`2y`,`1y`,`ytd`,`6m`,`3m`,`1m`"
      ],
      "execution_count": 8,
      "outputs": [
        {
          "output_type": "stream",
          "text": [
            "218.75\n",
            "1.5112488163163116\n",
            "[{'actualEPS': 2.18, 'consensusEPS': 2.09, 'announceTime': 'AMC', 'numberOfEstimates': 37, 'EPSSurpriseDollar': 0.09, 'EPSReportDate': '2019-07-30', 'fiscalPeriod': 'Q2 2019', 'fiscalEndDate': '2019-06-30', 'yearAgo': 2.34, 'yearAgoChangePercent': -0.0684}]\n",
            "4519180000\n",
            "4512392191.64\n",
            "[{'exDate': '2019-07-22', 'paymentDate': '2019-09-03', 'recordDate': '2019-07-23', 'declaredDate': '2019-07-11', 'amount': 0.15, 'flag': 'No Change QoQ', 'currency': 'USD', 'description': 'Ford Motor Co. Declares Quarterly Dividend of $0.15 Per Share', 'frequency': 'Quarterly', 'date': '2019-09-15'}]\n"
          ],
          "name": "stdout"
        }
      ]
    },
    {
      "cell_type": "code",
      "metadata": {
        "id": "4KqGm3pzQOK3",
        "colab_type": "code",
        "outputId": "8006a229-03f6-4295-bd7d-4fd03da61ab4",
        "colab": {
          "base_uri": "https://localhost:8080/",
          "height": 748
        }
      },
      "source": [
        "quote = Stock('AAPL').get_quote()\n",
        "quote"
      ],
      "execution_count": 10,
      "outputs": [
        {
          "output_type": "execute_result",
          "data": {
            "text/plain": [
              "{'avgTotalVolume': 29581681,\n",
              " 'calculationPrice': 'close',\n",
              " 'change': -4.33,\n",
              " 'changePercent': -0.01941,\n",
              " 'close': 218.75,\n",
              " 'closeTime': 1568404800279,\n",
              " 'companyName': 'Apple, Inc.',\n",
              " 'delayedPrice': 218.75,\n",
              " 'delayedPriceTime': 1568404800279,\n",
              " 'extendedChange': -0.25,\n",
              " 'extendedChangePercent': -0.00114,\n",
              " 'extendedPrice': 218.5,\n",
              " 'extendedPriceTime': 1568591997169,\n",
              " 'high': 220.79,\n",
              " 'iexAskPrice': None,\n",
              " 'iexAskSize': None,\n",
              " 'iexBidPrice': None,\n",
              " 'iexBidSize': None,\n",
              " 'iexLastUpdated': None,\n",
              " 'iexMarketPercent': None,\n",
              " 'iexRealtimePrice': None,\n",
              " 'iexRealtimeSize': None,\n",
              " 'iexVolume': None,\n",
              " 'isUSMarketOpen': False,\n",
              " 'lastTradeTime': 1568404800279,\n",
              " 'latestPrice': 218.75,\n",
              " 'latestSource': 'Close',\n",
              " 'latestTime': 'September 13, 2019',\n",
              " 'latestUpdate': 1568404800279,\n",
              " 'latestVolume': 39699279,\n",
              " 'low': 217.02,\n",
              " 'marketCap': 988570625000,\n",
              " 'open': 219.81,\n",
              " 'openTime': 1568381400427,\n",
              " 'peRatio': 18.49,\n",
              " 'previousClose': 223.08,\n",
              " 'previousVolume': 32226669,\n",
              " 'primaryExchange': 'NASDAQ',\n",
              " 'symbol': 'AAPL',\n",
              " 'volume': 39699279,\n",
              " 'week52High': 233.47,\n",
              " 'week52Low': 142,\n",
              " 'ytdChange': 0.365785}"
            ]
          },
          "metadata": {
            "tags": []
          },
          "execution_count": 10
        }
      ]
    },
    {
      "cell_type": "code",
      "metadata": {
        "id": "CV4Jfv4sIz5_",
        "colab_type": "code",
        "outputId": "4ff083d6-2443-4ff7-9367-70610607df40",
        "colab": {
          "base_uri": "https://localhost:8080/",
          "height": 170
        }
      },
      "source": [
        "# Quote\n",
        "\n",
        "print( Stock('AAPL').get_sector() )\n",
        "\n",
        "print( Stock('AAPL').get_sector() )\n",
        "\n",
        "print( Stock('AAPL').get_open() )\n",
        "\n",
        "print( Stock('AAPL').get_close() )\n",
        "\n",
        "print( Stock('AAPL').get_years_high() ) #52 week high\n",
        "\n",
        "print( Stock('AAPL').get_years_low() )  #52 week low\n",
        "\n",
        "print( Stock('AAPL').get_ytd_change() )\n",
        "\n",
        "print( Stock('AAPL').get_volume() )\n",
        "\n",
        "print( Stock('AAPL').get_market_cap() )"
      ],
      "execution_count": 11,
      "outputs": [
        {
          "output_type": "stream",
          "text": [
            "Electronic Technology\n",
            "Electronic Technology\n",
            "219.81\n",
            "218.75\n",
            "233.47\n",
            "142\n",
            "0.365785\n",
            "39699279\n",
            "988570625000\n"
          ],
          "name": "stdout"
        }
      ]
    },
    {
      "cell_type": "code",
      "metadata": {
        "id": "yHmaave56ubA",
        "colab_type": "code",
        "outputId": "c175ff3e-fe48-4f1a-d93f-bc3cf6eb4f0b",
        "colab": {
          "base_uri": "https://localhost:8080/",
          "height": 527
        }
      },
      "source": [
        "Stock('AAPL').get_key_stats()"
      ],
      "execution_count": 0,
      "outputs": [
        {
          "output_type": "execute_result",
          "data": {
            "text/plain": [
              "{'avg10Volume': 35450827.1,\n",
              " 'avg30Volume': 25206770.87,\n",
              " 'beta': 1.5155059487826001,\n",
              " 'companyName': 'Apple, Inc.',\n",
              " 'day200MovingAvg': 186.28,\n",
              " 'day30ChangePercent': 0.007312,\n",
              " 'day50MovingAvg': 197.72,\n",
              " 'day5ChangePercent': -0.075291,\n",
              " 'dividendYield': 0.015025380710659899,\n",
              " 'employees': 132000,\n",
              " 'exDividendDate': '2019-08-09',\n",
              " 'float': 4512744687.68,\n",
              " 'marketcap': 890278460000,\n",
              " 'maxChangePercent': 205.130117,\n",
              " 'month1ChangePercent': -0.015098,\n",
              " 'month3ChangePercent': -0.028887,\n",
              " 'month6ChangePercent': 0.152451,\n",
              " 'nextDividendDate': '2019-08-09',\n",
              " 'nextEarningsDate': '2019-10-31',\n",
              " 'peRatio': 16.77,\n",
              " 'sharesOutstanding': 4519180000,\n",
              " 'ttmDividendRate': 2.96,\n",
              " 'ttmEPS': 11.83,\n",
              " 'week52change': -0.048815,\n",
              " 'week52high': 233.47,\n",
              " 'week52low': 142,\n",
              " 'year1ChangePercent': -0.048815,\n",
              " 'year2ChangePercent': 0.362525,\n",
              " 'year5ChangePercent': 1.463761,\n",
              " 'ytdChangePercent': 0.247467}"
            ]
          },
          "metadata": {
            "tags": []
          },
          "execution_count": 45
        }
      ]
    },
    {
      "cell_type": "code",
      "metadata": {
        "id": "0HFBzMyV7jEA",
        "colab_type": "code",
        "outputId": "91e8846f-f39f-4cf7-de02-b9fc08ee247a",
        "colab": {
          "base_uri": "https://localhost:8080/",
          "height": 717
        }
      },
      "source": [
        "company = Stock('AAPL').get_company()\n",
        "ohlc = Stock('AAPL').get_ohlc()\n",
        "stats = Stock('AAPL').get_key_stats()\n",
        "\n",
        "{**company, **stats}"
      ],
      "execution_count": 0,
      "outputs": [
        {
          "output_type": "execute_result",
          "data": {
            "text/plain": [
              "{'CEO': 'Timothy Donald Cook',\n",
              " 'avg10Volume': 33647753,\n",
              " 'avg30Volume': 27747839.2,\n",
              " 'beta': 1.5039328794764433,\n",
              " 'companyName': 'Apple, Inc.',\n",
              " 'day200MovingAvg': 185.69,\n",
              " 'day30ChangePercent': 0.032397,\n",
              " 'day50MovingAvg': 201.6,\n",
              " 'day5ChangePercent': 0.030028,\n",
              " 'description': 'Apple, Inc. engages in designing, manufacturing, and marketing of mobile communication, media devices, personal computers, and portable digital music players. It operates through the following geographical segments: Americas, Europe, Greater China, Japan, and Rest of Asia Pacific. The Americas segment includes North and South America. The Europe segment consists of European countries, as well as India, the Middle East, and Africa. The Greater China segment comprises of China, Hong Kong, and Taiwan. The Rest of Asia Pacific segment includes Australia and Asian countries. Apple was founded by Steven Paul Jobs, Ronald Gerald Wayne, and Stephen G. Wozniak on April 1, 1976 and is headquartered in Cupertino, CA.',\n",
              " 'dividendYield': 0.014334140435835351,\n",
              " 'employees': 132000,\n",
              " 'exDividendDate': '2019-08-09',\n",
              " 'exchange': 'NASDAQ',\n",
              " 'float': 4512758245.22,\n",
              " 'industry': 'Telecommunications Equipment',\n",
              " 'issueType': 'cs',\n",
              " 'marketcap': 933210670000,\n",
              " 'maxChangePercent': 205.130117,\n",
              " 'month1ChangePercent': 0.0193,\n",
              " 'month3ChangePercent': 0.127861,\n",
              " 'month6ChangePercent': 0.208097,\n",
              " 'nextDividendDate': None,\n",
              " 'nextEarningsDate': '2019-10-31',\n",
              " 'peRatio': 17.89,\n",
              " 'sector': 'Electronic Technology',\n",
              " 'securityName': 'Apple Inc.',\n",
              " 'sharesOutstanding': 4519180000,\n",
              " 'symbol': 'AAPL',\n",
              " 'tags': ['Electronic Technology', 'Telecommunications Equipment'],\n",
              " 'ttmDividendRate': 2.96,\n",
              " 'ttmEPS': 11.83,\n",
              " 'website': 'http://www.apple.com',\n",
              " 'week52change': -0.041585000000000004,\n",
              " 'week52high': 233.47,\n",
              " 'week52low': 142,\n",
              " 'year1ChangePercent': -0.041585,\n",
              " 'year2ChangePercent': 0.362525,\n",
              " 'year5ChangePercent': 1.463761,\n",
              " 'ytdChangePercent': 0.307624}"
            ]
          },
          "metadata": {
            "tags": []
          },
          "execution_count": 12
        }
      ]
    },
    {
      "cell_type": "code",
      "metadata": {
        "id": "rR2R1UhK3kHD",
        "colab_type": "code",
        "outputId": "b72f3e1b-5203-4ca8-8830-7530b1d04dea",
        "colab": {
          "base_uri": "https://localhost:8080/",
          "height": 54
        }
      },
      "source": [
        "print( Stock('AAPL').get_financials() ) #Pulls income statement, balance sheet, and cash flow data from the most recent reported quarter."
      ],
      "execution_count": 0,
      "outputs": [
        {
          "output_type": "stream",
          "text": [
            "[{'reportDate': '2019-06-30', 'grossProfit': 20172000000, 'costOfRevenue': 33569000000, 'operatingRevenue': 53741000000, 'totalRevenue': 53741000000, 'operatingIncome': 11489000000, 'netIncome': 10044000000, 'researchAndDevelopment': 4257000000, 'operatingExpense': 42252000000, 'currentAssets': 134973000000, 'totalAssets': 322239000000, 'totalLiabilities': 225783000000, 'currentCash': 50796000000, 'currentDebt': 23482000000, 'shortTermDebt': 23482000000, 'longTermDebt': 84936000000, 'totalCash': 94880000000, 'totalDebt': 108418000000, 'shareholderEquity': 96456000000, 'cashChange': 12334000000, 'cashFlow': 11636000000}]\n"
          ],
          "name": "stdout"
        }
      ]
    },
    {
      "cell_type": "code",
      "metadata": {
        "id": "fvvldOEsx3HP",
        "colab_type": "code",
        "outputId": "3c20e50a-96bc-4e34-a22b-f1b703c107a1",
        "colab": {
          "base_uri": "https://localhost:8080/",
          "height": 34
        }
      },
      "source": [
        "Stock('AAPL').get_relevant_stocks()  # relevanget_relevant_stockst stock"
      ],
      "execution_count": 12,
      "outputs": [
        {
          "output_type": "execute_result",
          "data": {
            "text/plain": [
              "{'peers': True, 'symbols': ['GOOGL', 'BB', 'HPQ', 'IBM', 'NOK', 'MSFT']}"
            ]
          },
          "metadata": {
            "tags": []
          },
          "execution_count": 12
        }
      ]
    },
    {
      "cell_type": "code",
      "metadata": {
        "id": "E5ahO3G20kaV",
        "colab_type": "code",
        "colab": {
          "base_uri": "https://localhost:8080/",
          "height": 765
        },
        "outputId": "b2b8612c-3644-4004-9c94-2abe54a29bb0"
      },
      "source": [
        "from iexfinance.stocks import get_sector_performance\n",
        "\n",
        "get_sector_performance()  # industry performance"
      ],
      "execution_count": 13,
      "outputs": [
        {
          "output_type": "execute_result",
          "data": {
            "text/plain": [
              "[{'lastUpdated': 1568404800071,\n",
              "  'name': 'Materials',\n",
              "  'performance': 0.01094,\n",
              "  'type': 'sector'},\n",
              " {'lastUpdated': 1568404800036,\n",
              "  'name': 'Energy',\n",
              "  'performance': 0.00792,\n",
              "  'type': 'sector'},\n",
              " {'lastUpdated': 1568404800063,\n",
              "  'name': 'Financials',\n",
              "  'performance': 0.00778,\n",
              "  'type': 'sector'},\n",
              " {'lastUpdated': 1568404800015,\n",
              "  'name': 'Industrials',\n",
              "  'performance': 0.00545,\n",
              "  'type': 'sector'},\n",
              " {'lastUpdated': 1568404800039,\n",
              "  'name': 'Health Care',\n",
              "  'performance': -0.00055,\n",
              "  'type': 'sector'},\n",
              " {'lastUpdated': 1568404800069,\n",
              "  'name': 'Communication Services',\n",
              "  'performance': -0.00175,\n",
              "  'type': 'sector'},\n",
              " {'lastUpdated': 1568404800014,\n",
              "  'name': 'Consumer Discretionary',\n",
              "  'performance': -0.00202,\n",
              "  'type': 'sector'},\n",
              " {'lastUpdated': 1568404800057,\n",
              "  'name': 'Consumer Staples',\n",
              "  'performance': -0.0057,\n",
              "  'type': 'sector'},\n",
              " {'lastUpdated': 1568404800068,\n",
              "  'name': 'Utilities',\n",
              "  'performance': -0.00632,\n",
              "  'type': 'sector'},\n",
              " {'lastUpdated': 1568404800069,\n",
              "  'name': 'Technology',\n",
              "  'performance': -0.00734,\n",
              "  'type': 'sector'},\n",
              " {'lastUpdated': 1568404800072,\n",
              "  'name': 'Real Estate',\n",
              "  'performance': -0.01203,\n",
              "  'type': 'sector'}]"
            ]
          },
          "metadata": {
            "tags": []
          },
          "execution_count": 13
        }
      ]
    },
    {
      "cell_type": "code",
      "metadata": {
        "id": "6CljaqGx1eJy",
        "colab_type": "code",
        "colab": {
          "base_uri": "https://localhost:8080/",
          "height": 360
        },
        "outputId": "5e422f1c-1174-4b56-a075-650d9a0eb85a"
      },
      "source": [
        "Stock('AAPL').get_company()  #company data"
      ],
      "execution_count": 14,
      "outputs": [
        {
          "output_type": "execute_result",
          "data": {
            "text/plain": [
              "{'CEO': 'Timothy Donald Cook',\n",
              " 'address': 'One Apple Park Way',\n",
              " 'address2': None,\n",
              " 'city': 'Cupertino',\n",
              " 'companyName': 'Apple, Inc.',\n",
              " 'country': 'US',\n",
              " 'description': 'Apple, Inc. engages in designing, manufacturing, and marketing of mobile communication, media devices, personal computers, and portable digital music players. It operates through the following geographical segments: Americas, Europe, Greater China, Japan, and Rest of Asia Pacific. The Americas segment includes North and South America. The Europe segment consists of European countries, as well as India, the Middle East, and Africa. The Greater China segment comprises of China, Hong Kong, and Taiwan. The Rest of Asia Pacific segment includes Australia and Asian countries. Its products and services include iPhone, iPad, Mac, iPod, Apple Watch, Apple TV, a portfolio of consumer and professional software applications, iPhone OS (iOS), OS X and watchOS operating systems, iCloud, Apple Pay and a range of accessory, service and support offerings. Apple was founded by Steven Paul Jobs, Ronald Gerald Wayne, and Stephen G. Wozniak on April 1, 1976 and is headquartered in Cupertino, CA.',\n",
              " 'employees': 132000,\n",
              " 'exchange': 'NASDAQ',\n",
              " 'industry': 'Telecommunications Equipment',\n",
              " 'issueType': 'cs',\n",
              " 'phone': '1.408.974.3123',\n",
              " 'sector': 'Electronic Technology',\n",
              " 'securityName': 'Apple Inc.',\n",
              " 'state': 'CA',\n",
              " 'symbol': 'AAPL',\n",
              " 'tags': ['Electronic Technology', 'Telecommunications Equipment'],\n",
              " 'website': 'http://www.apple.com',\n",
              " 'zip': '95014-2083'}"
            ]
          },
          "metadata": {
            "tags": []
          },
          "execution_count": 14
        }
      ]
    },
    {
      "cell_type": "code",
      "metadata": {
        "id": "HXq4X8GKPHC3",
        "colab_type": "code",
        "colab": {
          "base_uri": "https://localhost:8080/",
          "height": 1000
        },
        "outputId": "b53d7288-6ffb-41f3-bcf4-92559f3884cd"
      },
      "source": [
        "historical_data = Stock(\"TSLA\").get_chart(range=\"5d\")\n",
        "historical_data"
      ],
      "execution_count": 15,
      "outputs": [
        {
          "output_type": "execute_result",
          "data": {
            "text/plain": [
              "[{'change': 0,\n",
              "  'changeOverTime': 0,\n",
              "  'changePercent': 0,\n",
              "  'close': 231.79,\n",
              "  'date': '2019-09-09',\n",
              "  'high': 233.76,\n",
              "  'label': 'Sep 9',\n",
              "  'low': 229.23,\n",
              "  'open': 230,\n",
              "  'uClose': 231.79,\n",
              "  'uHigh': 233.76,\n",
              "  'uLow': 229.23,\n",
              "  'uOpen': 230,\n",
              "  'uVolume': 4802669,\n",
              "  'volume': 4802669},\n",
              " {'change': 3.75,\n",
              "  'changeOverTime': 0.016178,\n",
              "  'changePercent': 1.6178,\n",
              "  'close': 235.54,\n",
              "  'date': '2019-09-10',\n",
              "  'high': 235.54,\n",
              "  'label': 'Sep 10',\n",
              "  'low': 228.94,\n",
              "  'open': 230.8,\n",
              "  'uClose': 235.54,\n",
              "  'uHigh': 235.54,\n",
              "  'uLow': 228.94,\n",
              "  'uOpen': 230.8,\n",
              "  'uVolume': 4883714,\n",
              "  'volume': 4883714},\n",
              " {'change': 11.56,\n",
              "  'changeOverTime': 0.066051,\n",
              "  'changePercent': 4.9079,\n",
              "  'close': 247.1,\n",
              "  'date': '2019-09-11',\n",
              "  'high': 248.17,\n",
              "  'label': 'Sep 11',\n",
              "  'low': 236,\n",
              "  'open': 237.38,\n",
              "  'uClose': 247.1,\n",
              "  'uHigh': 248.17,\n",
              "  'uLow': 236,\n",
              "  'uOpen': 237.38,\n",
              "  'uVolume': 10042777,\n",
              "  'volume': 10042777},\n",
              " {'change': -1.23,\n",
              "  'changeOverTime': 0.060745,\n",
              "  'changePercent': -0.4978,\n",
              "  'close': 245.87,\n",
              "  'date': '2019-09-12',\n",
              "  'high': 253.5,\n",
              "  'label': 'Sep 12',\n",
              "  'low': 244.4,\n",
              "  'open': 247.7,\n",
              "  'uClose': 245.87,\n",
              "  'uHigh': 253.5,\n",
              "  'uLow': 244.4,\n",
              "  'uOpen': 247.7,\n",
              "  'uVolume': 8581210,\n",
              "  'volume': 8581210},\n",
              " {'change': -0.67,\n",
              "  'changeOverTime': 0.057854,\n",
              "  'changePercent': -0.2725,\n",
              "  'close': 245.2,\n",
              "  'date': '2019-09-13',\n",
              "  'high': 248.45,\n",
              "  'label': 'Sep 13',\n",
              "  'low': 244.86,\n",
              "  'open': 246.96,\n",
              "  'uClose': 245.2,\n",
              "  'uHigh': 248.45,\n",
              "  'uLow': 244.86,\n",
              "  'uOpen': 246.96,\n",
              "  'uVolume': 5313145,\n",
              "  'volume': 5313145}]"
            ]
          },
          "metadata": {
            "tags": []
          },
          "execution_count": 15
        }
      ]
    },
    {
      "cell_type": "code",
      "metadata": {
        "id": "C24ySG_rAG9U",
        "colab_type": "code",
        "colab": {}
      },
      "source": [
        "!pip3 install fuzzywuzzy\n",
        "!pip3 install python-Levenshtein"
      ],
      "execution_count": 0,
      "outputs": []
    },
    {
      "cell_type": "code",
      "metadata": {
        "id": "eltensOJCcgB",
        "colab_type": "code",
        "colab": {}
      },
      "source": [
        "from fuzzywuzzy import fuzz \n",
        "from fuzzywuzzy import process"
      ],
      "execution_count": 0,
      "outputs": []
    },
    {
      "cell_type": "code",
      "metadata": {
        "id": "lNoNbqQh_9QP",
        "colab_type": "code",
        "colab": {}
      },
      "source": [
        "import requests\n",
        "\n",
        "def getTicker(name):\n",
        "  r = requests.get('https://api.iextrading.com/1.0/ref-data/symbols')\n",
        "  stockList = r.json()\n",
        "  return [obj for obj in stockList if fuzz.partial_ratio(obj['name'], name) > 75][0]['symbol']"
      ],
      "execution_count": 0,
      "outputs": []
    },
    {
      "cell_type": "code",
      "metadata": {
        "id": "GXKTeb0yLYx-",
        "colab_type": "code",
        "colab": {}
      },
      "source": [
        "def getTicker(name):\n",
        "  r = requests.get('https://api.iextrading.com/1.0/ref-data/symbols')\n",
        "  stockList = r.json()\n",
        "  return process.extractOne(name, stockList)[0]['symbol']"
      ],
      "execution_count": 0,
      "outputs": []
    },
    {
      "cell_type": "code",
      "metadata": {
        "id": "HaX_w_wuoFzC",
        "colab_type": "code",
        "outputId": "c4e079c9-2bfe-4dd6-a14b-f9ad194b18a6",
        "colab": {
          "base_uri": "https://localhost:8080/",
          "height": 34
        }
      },
      "source": [
        "getTicker(\"sina corporation\")"
      ],
      "execution_count": 20,
      "outputs": [
        {
          "output_type": "execute_result",
          "data": {
            "text/plain": [
              "'SINA'"
            ]
          },
          "metadata": {
            "tags": []
          },
          "execution_count": 20
        }
      ]
    },
    {
      "cell_type": "code",
      "metadata": {
        "id": "TlOyzmOVDEoQ",
        "colab_type": "code",
        "colab": {
          "base_uri": "https://localhost:8080/",
          "height": 34
        },
        "outputId": "a767ce3d-efff-4661-e74f-91d42bdd0254"
      },
      "source": [
        "possiblePeriods = {\n",
        "        \"5 years\": \"5y\",\n",
        "        \"2 years\": \"2y\",\n",
        "        \"1 year\": \"1y\",\n",
        "        \"year to date\": \"ytd\",\n",
        "        \"ytd\": \"ytd\",\n",
        "        \"6 months\": \"6m\",\n",
        "        \"3 months\": \"3m\",\n",
        "        \"1 month\": \"1m\"\n",
        "    }\n",
        "\n",
        "selectedPeriod = process.extractOne(\"year to date\", possiblePeriods.keys())[0]\n",
        "possiblePeriods[selectedPeriod]"
      ],
      "execution_count": 21,
      "outputs": [
        {
          "output_type": "execute_result",
          "data": {
            "text/plain": [
              "'ytd'"
            ]
          },
          "metadata": {
            "tags": []
          },
          "execution_count": 21
        }
      ]
    },
    {
      "cell_type": "code",
      "metadata": {
        "id": "voTwEhFaTfh_",
        "colab_type": "code",
        "colab": {
          "base_uri": "https://localhost:8080/",
          "height": 34
        },
        "outputId": "c5c0b470-0981-493c-858e-56b0dcc5c83c"
      },
      "source": [
        "getTicker('google')"
      ],
      "execution_count": 24,
      "outputs": [
        {
          "output_type": "execute_result",
          "data": {
            "text/plain": [
              "'GOOGL'"
            ]
          },
          "metadata": {
            "tags": []
          },
          "execution_count": 24
        }
      ]
    },
    {
      "cell_type": "code",
      "metadata": {
        "id": "ylPaKMLUWbyk",
        "colab_type": "code",
        "colab": {
          "base_uri": "https://localhost:8080/",
          "height": 34
        },
        "outputId": "68690e40-92b0-442a-e9c8-de27c0affd79"
      },
      "source": [
        "Stock('GOOGL').get_company_name()"
      ],
      "execution_count": 23,
      "outputs": [
        {
          "output_type": "execute_result",
          "data": {
            "text/plain": [
              "'Alphabet, Inc.'"
            ]
          },
          "metadata": {
            "tags": []
          },
          "execution_count": 23
        }
      ]
    },
    {
      "cell_type": "code",
      "metadata": {
        "id": "2WG2H3lQIhtf",
        "colab_type": "code",
        "colab": {
          "base_uri": "https://localhost:8080/",
          "height": 34
        },
        "outputId": "4c2464e4-7925-4f4c-aded-24311390824b"
      },
      "source": [
        "fuzz.partial_ratio('ford motor company', 'ford motors')"
      ],
      "execution_count": 22,
      "outputs": [
        {
          "output_type": "execute_result",
          "data": {
            "text/plain": [
              "91"
            ]
          },
          "metadata": {
            "tags": []
          },
          "execution_count": 22
        }
      ]
    },
    {
      "cell_type": "code",
      "metadata": {
        "id": "8xifQcPxbJF9",
        "colab_type": "code",
        "colab": {}
      },
      "source": [
        "def findAndExecute(stock, metric, period=None):\n",
        "    identifiedMetric = process.extractOne(metric, metricsMapping.keys())[0]\n",
        "    if period:\n",
        "        return {identifiedMetric: metricsMapping[identifiedMetric](stock, period)}\n",
        "    else:\n",
        "        return {identifiedMetric: metricsMapping[identifiedMetric](stock)}\n",
        "\n",
        "def get_price(stock, *karg):\n",
        "    return Stock(stock).get_price()\n",
        "\n",
        "def get_open(stock, *karg):\n",
        "    return Stock(stock).get_open()\n",
        "\n",
        "def get_close(stock, *karg):\n",
        "    return Stock(stock).get_close()\n",
        "\n",
        "def get_beta(stock, *karg):\n",
        "    return Stock(stock).get_beta()\n",
        "\n",
        "def get_pe_ratio(stock, *karg):\n",
        "    return Stock(stock).get_key_stats()['peRatio']\n",
        "\n",
        "def get_market_cap(stock, *karg):\n",
        "    return Stock(stock).get_market_cap()\n",
        "\n",
        "def get_financials(stock, *karg):\n",
        "    return Stock(stock).get_financials()\n",
        "\n",
        "def get_high(stock, period=\"xxxx\"):\n",
        "    if any(x in period for x in ['1 year', '52 week']):\n",
        "        return Stock(stock).get_years_high()\n",
        "    else:\n",
        "        return Stock(stock).get_ohlc()\n",
        "\n",
        "def get_low(stock, period=\"xxxx\"):\n",
        "    if any(x in period for x in ['1 year', '52 week']):\n",
        "        return Stock(stock).get_years_low()\n",
        "    else:\n",
        "        return Stock(stock).get_ohlc()\n",
        "\n",
        "def get_earnings(stock, period=\"xxxx\"):  #max upto 1 year\n",
        "    if 'year' in period:\n",
        "        return Stock(stock).get_earnings(last = 4)\n",
        "    elif 'quarter' in period:\n",
        "        last = [int(s) for s in period.split() if s.isdigit()]\n",
        "        return Stock(stock).get_earnings(last = last[0])\n",
        "    else:\n",
        "        return Stock(stock).get_earnings()\n",
        "\n",
        "def get_shares_outstanding(stock, *karg):\n",
        "    return Stock(stock).get_shares_outstanding()\n",
        "\n",
        "def get_float(stock):\n",
        "    return Stock(stock).get_float()\n",
        "\n",
        "def get_dividends(stock, period=\"1 year\"):\n",
        "    possiblePeriods = {\n",
        "        \"5 years\": \"5y\",\n",
        "        \"2 years\": \"2y\",\n",
        "        \"1 year\": \"1y\",\n",
        "        \"year to date\": \"ytd\",\n",
        "        \"ytd\": \"ytd\",\n",
        "        \"6 months\": \"6m\",\n",
        "        \"3 months\": \"3m\",\n",
        "        \"1 month\": \"1m\"\n",
        "    }\n",
        "\n",
        "    identiedPeriod = process.extractOne(period, possiblePeriods.keys())[0]\n",
        "    selectedPeriod = possiblePeriods[identiedPeriod]\n",
        "    return Stock(stock).get_dividends(range = selectedPeriod)\n",
        "\n",
        "def get_change_percent(stock, period=\"2 year\"):\n",
        "    possiblePeriods = {\n",
        "        \"5 years\": \"year5ChangePercent\",\n",
        "        \"2 years\": \"year2ChangePercent\",\n",
        "        \"1 year\": \"year1ChangePercent\",\n",
        "        \"year to date\": \"ytdChangePercent\",\n",
        "        \"ytd\": \"ytdChangePercent\",\n",
        "        \"6 months\": \"month6ChangePercent\",\n",
        "        \"3 months\": \"month3ChangePercent\",\n",
        "        \"1 month\": \"month1ChangePercent\",\n",
        "        \"5 day\": \"day5ChangePercent\"\n",
        "    }\n",
        "\n",
        "    identiiedPeriod = process.extractOne(period, possiblePeriods.keys())[0]\n",
        "    return Stock(stock).get_key_stats()[ possiblePeriods[identiiedPeriod] ]\n",
        "\n",
        "def get_volume(stock, period=\"30 day\"):\n",
        "    possiblePeriods = {\n",
        "        \"10 day\": \"avg10Volume\",\n",
        "        \"30 day\": \"avg30Volume\"\n",
        "    }\n",
        "    identiiedPeriod = process.extractOne(period, possiblePeriods.keys())[0]\n",
        "    return Stock(stock).get_key_stats()[ possiblePeriods[identiiedPeriod] ]\n",
        "\n",
        "def get_moving_avg(stock, period=\"200 day\"):\n",
        "    possiblePeriods = {\n",
        "        \"50 day\": \"day50MovingAvg\",\n",
        "        \"200 day\": \"day200MovingAvg\"\n",
        "    }\n",
        "    identiiedPeriod = process.extractOne(period, possiblePeriods.keys())[0]\n",
        "    return Stock(stock).get_key_stats()[ possiblePeriods[identiiedPeriod] ]\n",
        "\n",
        "\n",
        "metricsMapping = {\n",
        "    **dict.fromkeys([\"price\", \"trading at\"], get_price ),\n",
        "    **dict.fromkeys([\"beta\", \"volatality\"], get_beta ),\n",
        "    **dict.fromkeys([\"earnings\", \"EPS\", \"earnings per share\"], get_earnings ), #has period\n",
        "    **dict.fromkeys([\"outstanding\"], get_shares_outstanding ),\n",
        "    **dict.fromkeys([\"floating\"], get_float ),\n",
        "    **dict.fromkeys([\"dividend\"], get_dividends ),  #has period\n",
        "    **dict.fromkeys([\"open\", \"opening\"], get_open ),\n",
        "    **dict.fromkeys([\"close\", \"closing\"], get_close ),\n",
        "    **dict.fromkeys([\"high\"], get_high ) ,\n",
        "    **dict.fromkeys([\"low\"], get_low ) ,\n",
        "    **dict.fromkeys([\"change percent\"], get_change_percent ),  #has period with ytd, get_key_stats\n",
        "    **dict.fromkeys([\"volume\"], get_volume ), # has period, get_key_stats\n",
        "    **dict.fromkeys([\"market cap\", \"market capitalization\", \"market value\"], get_market_cap ),\n",
        "    **dict.fromkeys([\"pe ratio\", \"price to earning ratio\"], get_pe_ratio ),\n",
        "    **dict.fromkeys([\"moving average\", \"moving avg\"], get_moving_avg ),\n",
        "    **dict.fromkeys([\"income statement\", \"balance sheet\", \"cash flow\", \"cash change\",\n",
        "        \"shareholder equity\", \"cost of revenue\", \"current assets\", \"current cash\",\n",
        "        \"current debt\", \"gross profit\", \"long term debt\", \"net income\",\n",
        "        \"operating expense\", \"operating income\", \"operating revenue\", \"short term debt\",\n",
        "        \"total debt\", \"total cash\", \"total assets\", \"liabilities\", \"total revenue\"], get_financials )\n",
        "}"
      ],
      "execution_count": 0,
      "outputs": []
    },
    {
      "cell_type": "code",
      "metadata": {
        "id": "cSteluJfcI_p",
        "colab_type": "code",
        "colab": {
          "base_uri": "https://localhost:8080/",
          "height": 119
        },
        "outputId": "6a62884b-80ad-4d45-ba14-47b41e7e7939"
      },
      "source": [
        "findAndExecute(\"tsla\", \"high\")"
      ],
      "execution_count": 27,
      "outputs": [
        {
          "output_type": "execute_result",
          "data": {
            "text/plain": [
              "{'high': {'close': {'price': 245.2, 'time': 1568404800400},\n",
              "  'high': 248.45,\n",
              "  'low': 244.865,\n",
              "  'open': {'price': 246.96, 'time': 1568381400150},\n",
              "  'symbol': 'TSLA',\n",
              "  'volume': 5241386}}"
            ]
          },
          "metadata": {
            "tags": []
          },
          "execution_count": 27
        }
      ]
    },
    {
      "cell_type": "code",
      "metadata": {
        "id": "dmJMV9mnLdlp",
        "colab_type": "code",
        "outputId": "31f2d7ab-439d-486c-c616-0465e544279e",
        "colab": {
          "base_uri": "https://localhost:8080/",
          "height": 34
        }
      },
      "source": [
        "from iexfinance.stocks import get_historical_data\n",
        "import datetime\n",
        "\n",
        "start = datetime.date.today()-datetime.timedelta(1)\n",
        "end = datetime.date.today()-datetime.timedelta(1)\n",
        "\n",
        "\n",
        "data = get_historical_data(\"TSLA\", start, end)\n",
        "\n",
        "data"
      ],
      "execution_count": 33,
      "outputs": [
        {
          "output_type": "execute_result",
          "data": {
            "text/plain": [
              "{}"
            ]
          },
          "metadata": {
            "tags": []
          },
          "execution_count": 33
        }
      ]
    }
  ]
}