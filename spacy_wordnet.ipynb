{
  "nbformat": 4,
  "nbformat_minor": 0,
  "metadata": {
    "colab": {
      "name": "spacy_wordnet.ipynb",
      "provenance": [],
      "collapsed_sections": [],
      "authorship_tag": "ABX9TyOBrh2yyX+GGfwaWMshaAFt",
      "include_colab_link": true
    },
    "kernelspec": {
      "name": "python3",
      "display_name": "Python 3"
    }
  },
  "cells": [
    {
      "cell_type": "markdown",
      "metadata": {
        "id": "view-in-github",
        "colab_type": "text"
      },
      "source": [
        "<a href=\"https://colab.research.google.com/github/RajanMehta/mini-projects/blob/master/spacy_wordnet.ipynb\" target=\"_parent\"><img src=\"https://colab.research.google.com/assets/colab-badge.svg\" alt=\"Open In Colab\"/></a>"
      ]
    },
    {
      "cell_type": "code",
      "metadata": {
        "id": "PiQllIIp4sw-",
        "colab_type": "code",
        "outputId": "f63e2b0b-1ca6-4057-9bb2-e55dd5261aba",
        "colab": {
          "base_uri": "https://localhost:8080/",
          "height": 357
        }
      },
      "source": [
        "!pip install spacy-wordnet"
      ],
      "execution_count": 0,
      "outputs": [
        {
          "output_type": "stream",
          "text": [
            "Collecting spacy-wordnet\n",
            "\u001b[?25l  Downloading https://files.pythonhosted.org/packages/f7/f2/4d8070df0f7a7a9eeed74eb7e9ce3cf41349eb5e06b1e088de9eeca630e2/spacy-wordnet-0.0.4.tar.gz (648kB)\n",
            "\u001b[K     |████████████████████████████████| 655kB 3.5MB/s \n",
            "\u001b[?25hCollecting nltk<3.4,>=3.3\n",
            "\u001b[?25l  Downloading https://files.pythonhosted.org/packages/50/09/3b1755d528ad9156ee7243d52aa5cd2b809ef053a0f31b53d92853dd653a/nltk-3.3.0.zip (1.4MB)\n",
            "\u001b[K     |████████████████████████████████| 1.4MB 29.7MB/s \n",
            "\u001b[?25hRequirement already satisfied: six in /usr/local/lib/python3.6/dist-packages (from nltk<3.4,>=3.3->spacy-wordnet) (1.12.0)\n",
            "Building wheels for collected packages: spacy-wordnet, nltk\n",
            "  Building wheel for spacy-wordnet (setup.py) ... \u001b[?25l\u001b[?25hdone\n",
            "  Created wheel for spacy-wordnet: filename=spacy_wordnet-0.0.4-py2.py3-none-any.whl size=650293 sha256=1202a4be766064f2fefa22004593ca2a7db423ff71608529398c2ed596722c49\n",
            "  Stored in directory: /root/.cache/pip/wheels/25/93/1d/c86db913cd146fc9ddb26d10f56579c5d58a3e00bc8f96a3a6\n",
            "  Building wheel for nltk (setup.py) ... \u001b[?25l\u001b[?25hdone\n",
            "  Created wheel for nltk: filename=nltk-3.3-cp36-none-any.whl size=1394468 sha256=49600a0a54f8353d1a2dad46aa56fcbd311c24d6e901a0c99ad201c15d246d0e\n",
            "  Stored in directory: /root/.cache/pip/wheels/d1/ab/40/3bceea46922767e42986aef7606a600538ca80de6062dc266c\n",
            "Successfully built spacy-wordnet nltk\n",
            "Installing collected packages: nltk, spacy-wordnet\n",
            "  Found existing installation: nltk 3.2.5\n",
            "    Uninstalling nltk-3.2.5:\n",
            "      Successfully uninstalled nltk-3.2.5\n",
            "Successfully installed nltk-3.3 spacy-wordnet-0.0.4\n"
          ],
          "name": "stdout"
        }
      ]
    },
    {
      "cell_type": "code",
      "metadata": {
        "id": "Q0P_NOXl4xOz",
        "colab_type": "code",
        "outputId": "9505d18e-72b4-4fb1-9718-fdc6c58641ac",
        "colab": {
          "base_uri": "https://localhost:8080/",
          "height": 102
        }
      },
      "source": [
        "import nltk\n",
        " \n",
        "nltk.download(\"wordnet\")\n",
        "nltk.download(\"omw\")"
      ],
      "execution_count": 0,
      "outputs": [
        {
          "output_type": "stream",
          "text": [
            "[nltk_data] Downloading package wordnet to /root/nltk_data...\n",
            "[nltk_data]   Unzipping corpora/wordnet.zip.\n",
            "[nltk_data] Downloading package omw to /root/nltk_data...\n",
            "[nltk_data]   Unzipping corpora/omw.zip.\n"
          ],
          "name": "stdout"
        },
        {
          "output_type": "execute_result",
          "data": {
            "text/plain": [
              "True"
            ]
          },
          "metadata": {
            "tags": []
          },
          "execution_count": 2
        }
      ]
    },
    {
      "cell_type": "code",
      "metadata": {
        "id": "6ZLqf1bs4zg8",
        "colab_type": "code",
        "colab": {}
      },
      "source": [
        "# WordNet Domains--> http://wndomains.fbk.eu/hierarchy.html"
      ],
      "execution_count": 0,
      "outputs": []
    },
    {
      "cell_type": "code",
      "metadata": {
        "id": "DoSQRaht41dD",
        "colab_type": "code",
        "outputId": "de29abee-729c-407d-f8fa-51496d3fe42a",
        "colab": {
          "base_uri": "https://localhost:8080/",
          "height": 34
        }
      },
      "source": [
        "import spacy\n",
        "\n",
        "from spacy_wordnet.wordnet_annotator import WordnetAnnotator \n",
        "\n",
        "# Load an spacy model (supported models are \"es\" and \"en\") \n",
        "nlp = spacy.load('en')\n",
        "nlp.add_pipe(WordnetAnnotator(nlp.lang), after='tagger')\n",
        "token = nlp('prices')[0]\n",
        "\n",
        "# wordnet object link spacy token with nltk wordnet interface by giving acces to\n",
        "# synsets and lemmas \n",
        "token._.wordnet.synsets()\n",
        "token._.wordnet.lemmas()\n",
        "\n",
        "# And automatically tags with wordnet domains\n",
        "token._.wordnet.wordnet_domains()\n",
        "\n",
        "# we want to enrich the following sentence with synonyms\n",
        "sentence = nlp('can i spend $200 on tennis racket ?')\n",
        "\n",
        "# spaCy WordNet lets you find synonyms by domain of interest\n",
        "economy_domains = [\"finance\", \"sport\"]\n",
        "enriched_sentence = []\n",
        "\n",
        "# For each token in the sentence\n",
        "for token in sentence:\n",
        "    # We get those synsets within the desired domains\n",
        "    synsets = token._.wordnet.wordnet_synsets_for_domain(economy_domains)\n",
        "    if synsets:\n",
        "        lemmas_for_synset = []\n",
        "        for s in synsets:\n",
        "            # If we found a synset in the economy domains\n",
        "            # we get the variants and add them to the enriched sentence\n",
        "            lemmas_for_synset.extend(s.lemma_names())\n",
        "            enriched_sentence.append('({})'.format('|'.join(set(lemmas_for_synset))))\n",
        "    else:\n",
        "        enriched_sentence.append(token.text)\n",
        "\n",
        "# Let's see our enriched sentence\n",
        "print(' '.join(enriched_sentence))"
      ],
      "execution_count": 0,
      "outputs": [
        {
          "output_type": "stream",
          "text": [
            "can i (drop|spend|expend) $ 200 on (lawn_tennis|tennis) (racket|racquet) ?\n"
          ],
          "name": "stdout"
        }
      ]
    }
  ]
}